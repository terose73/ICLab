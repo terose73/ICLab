{
  "nbformat": 4,
  "nbformat_minor": 0,
  "metadata": {
    "colab": {
      "name": "ICLab_Analysis_ter9hb.ipynb",
      "provenance": [],
      "collapsed_sections": [],
      "mount_file_id": "1XVblO7zP8nhP_NNANj2TvJ1xocGs9czo",
      "authorship_tag": "ABX9TyO8T7t8IGs/2ykvV+flZjA+",
      "include_colab_link": true
    },
    "kernelspec": {
      "display_name": "Python 3",
      "name": "python3"
    }
  },
  "cells": [
    {
      "cell_type": "markdown",
      "metadata": {
        "id": "view-in-github",
        "colab_type": "text"
      },
      "source": [
        "<a href=\"https://colab.research.google.com/github/terose73/ICLab/blob/main/ICLab_Analysis_ter9hb.ipynb\" target=\"_parent\"><img src=\"https://colab.research.google.com/assets/colab-badge.svg\" alt=\"Open In Colab\"/></a>"
      ]
    },
    {
      "cell_type": "markdown",
      "metadata": {
        "id": "A1wX4rQZ1pRm"
      },
      "source": [
        "**Analyzing ICLab Censorship Data**"
      ]
    },
    {
      "cell_type": "markdown",
      "metadata": {
        "id": "NDWef2AQ1iI3"
      },
      "source": [
        "(1) measuring the type of censorship \n",
        "\n",
        "(2) measuring the change of censorship over time\n",
        "\n",
        "(3) visualizing the censorship (e.g., location, scale) \n",
        "\n",
        "\n",
        "idea 1. map AS # to names\n",
        "-> see which AS's censor the most sites\n",
        "\n",
        "idea 2. measure censorship by website type (business, abortion, finance, etc.)\n",
        "\n",
        "idea 3. map country codes to full country name\n",
        "\n",
        "idea 4. see what countries censor (what website type)"
      ]
    },
    {
      "cell_type": "markdown",
      "metadata": {
        "id": "RbvHhQUJkAc1"
      },
      "source": [
        "**Installation / Google Drive Linking**"
      ]
    },
    {
      "cell_type": "code",
      "metadata": {
        "id": "mw8p7Zgn1jOy",
        "colab": {
          "base_uri": "https://localhost:8080/"
        },
        "outputId": "63f60e8a-af75-4241-d095-5428003bbb3f"
      },
      "source": [
        "import sklearn\n",
        "import sys\n",
        "\n",
        "!{sys.executable} -m pip install pycountry\n",
        "!{sys.executable} -m pip install -U libra\n",
        "!{sys.executable} -m pip install urllib\n",
        "\n",
        "import pycountry\n",
        "import urllib\n",
        "from libra import client\n",
        "import numpy as np \n",
        "import pandas as pd\n",
        "import os \n",
        "import collections\n",
        "\n",
        "np.random.seed(2001) \n",
        "\n",
        "%matplotlib inline\n",
        "import matplotlib as mpl\n",
        "import matplotlib.pyplot as plt\n",
        "mpl.rc('axes', labelsize=14)\n",
        "mpl.rc('xtick', labelsize=12)\n",
        "mpl.rc('ytick', labelsize=12)"
      ],
      "execution_count": 1,
      "outputs": [
        {
          "output_type": "stream",
          "text": [
            "Collecting pycountry\n",
            "\u001b[?25l  Downloading https://files.pythonhosted.org/packages/76/73/6f1a412f14f68c273feea29a6ea9b9f1e268177d32e0e69ad6790d306312/pycountry-20.7.3.tar.gz (10.1MB)\n",
            "\u001b[K     |████████████████████████████████| 10.1MB 7.6MB/s \n",
            "\u001b[?25hBuilding wheels for collected packages: pycountry\n",
            "  Building wheel for pycountry (setup.py) ... \u001b[?25l\u001b[?25hdone\n",
            "  Created wheel for pycountry: filename=pycountry-20.7.3-py2.py3-none-any.whl size=10746865 sha256=42f2efd7fad1afa5932acaf9733c6e1ef19d9788861df7f09cd15e77ee9c5add\n",
            "  Stored in directory: /root/.cache/pip/wheels/33/4e/a6/be297e6b83567e537bed9df4a93f8590ec01c1acfbcd405348\n",
            "Successfully built pycountry\n",
            "Installing collected packages: pycountry\n",
            "Successfully installed pycountry-20.7.3\n",
            "Collecting libra\n",
            "\u001b[?25l  Downloading https://files.pythonhosted.org/packages/29/73/60b2dbde0cc0505ed1fb31fca6bc940afd819b18ca49c1fd7d999b7fd7ed/libra-1.2.5-py3-none-any.whl (83kB)\n",
            "\u001b[K     |████████████████████████████████| 92kB 5.4MB/s \n",
            "\u001b[?25hRequirement already satisfied, skipping upgrade: spacy in /usr/local/lib/python3.6/dist-packages (from libra) (2.2.4)\n",
            "Requirement already satisfied, skipping upgrade: nltk in /usr/local/lib/python3.6/dist-packages (from libra) (3.2.5)\n",
            "Collecting autocorrect\n",
            "\u001b[?25l  Downloading https://files.pythonhosted.org/packages/a0/71/eb8c1f83439dfe6cbe1edb03be1f1110b242503b61950e7c292dd557c23e/autocorrect-2.2.2.tar.gz (621kB)\n",
            "\u001b[K     |████████████████████████████████| 624kB 10.6MB/s \n",
            "\u001b[?25hRequirement already satisfied, skipping upgrade: tabulate in /usr/local/lib/python3.6/dist-packages (from libra) (0.8.7)\n",
            "Requirement already satisfied, skipping upgrade: opencv-python in /usr/local/lib/python3.6/dist-packages (from libra) (4.1.2.30)\n",
            "Collecting download\n",
            "  Downloading https://files.pythonhosted.org/packages/37/45/01e7455a9659528e77a414b222326d4c525796e4f571bbabcb2e0ff3d1f4/download-0.3.5-py3-none-any.whl\n",
            "Requirement already satisfied, skipping upgrade: numpy in /usr/local/lib/python3.6/dist-packages (from libra) (1.18.5)\n",
            "Requirement already satisfied, skipping upgrade: matplotlib in /usr/local/lib/python3.6/dist-packages (from libra) (3.2.2)\n",
            "Collecting tensorflowjs\n",
            "\u001b[?25l  Downloading https://files.pythonhosted.org/packages/e8/c8/c52e21c49b3baf0845e395241046a993e244dd4b94c9827a8cd2d9b18927/tensorflowjs-2.7.0-py3-none-any.whl (62kB)\n",
            "\u001b[K     |████████████████████████████████| 71kB 8.0MB/s \n",
            "\u001b[?25hRequirement already satisfied, skipping upgrade: pillow in /usr/local/lib/python3.6/dist-packages (from libra) (7.0.0)\n",
            "Requirement already satisfied, skipping upgrade: seaborn in /usr/local/lib/python3.6/dist-packages (from libra) (0.11.0)\n",
            "Collecting jellyfish\n",
            "\u001b[?25l  Downloading https://files.pythonhosted.org/packages/6c/09/927ae35fc5a9f70abb6cc2c27ee88fc48549f7bc4786c1d4b177c22e997d/jellyfish-0.8.2-cp36-cp36m-manylinux2014_x86_64.whl (93kB)\n",
            "\u001b[K     |████████████████████████████████| 102kB 938kB/s \n",
            "\u001b[?25hRequirement already satisfied, skipping upgrade: textblob in /usr/local/lib/python3.6/dist-packages (from libra) (0.15.3)\n",
            "Collecting prince\n",
            "  Downloading https://files.pythonhosted.org/packages/94/6c/491a3fabfd1ce75e285a4fe4200fccde5d83664733541a3a74c0b02e77fb/prince-0.7.1-py3-none-any.whl\n",
            "Collecting keras-tuner\n",
            "\u001b[?25l  Downloading https://files.pythonhosted.org/packages/a7/f7/4b41b6832abf4c9bef71a664dc563adb25afc5812831667c6db572b1a261/keras-tuner-1.0.1.tar.gz (54kB)\n",
            "\u001b[K     |████████████████████████████████| 61kB 6.8MB/s \n",
            "\u001b[?25hCollecting streamlit==0.64.0\n",
            "\u001b[?25l  Downloading https://files.pythonhosted.org/packages/73/a9/f3b4d005cd00ce435da3573bedacc1aff7eff76b312a215ed02c6297f56d/streamlit-0.64.0-py2.py3-none-any.whl (7.1MB)\n",
            "\u001b[K     |████████████████████████████████| 7.1MB 9.4MB/s \n",
            "\u001b[?25hRequirement already satisfied, skipping upgrade: pandas in /usr/local/lib/python3.6/dist-packages (from libra) (1.1.4)\n",
            "Requirement already satisfied, skipping upgrade: sklearn in /usr/local/lib/python3.6/dist-packages (from libra) (0.0)\n",
            "Requirement already satisfied, skipping upgrade: xgboost in /usr/local/lib/python3.6/dist-packages (from libra) (0.90)\n",
            "Collecting colorama\n",
            "  Downloading https://files.pythonhosted.org/packages/44/98/5b86278fbbf250d239ae0ecb724f8572af1c91f4a11edf4d36a206189440/colorama-0.4.4-py2.py3-none-any.whl\n",
            "Collecting tensorflow-gpu==2.3.1\n",
            "\u001b[?25l  Downloading https://files.pythonhosted.org/packages/18/99/ac32fd13d56e40d4c3e6150030132519997c0bb1f06f448d970e81b177e5/tensorflow_gpu-2.3.1-cp36-cp36m-manylinux2010_x86_64.whl (320.4MB)\n",
            "\u001b[K     |████████████████████████████████| 320.4MB 51kB/s \n",
            "\u001b[?25hCollecting transformers==3.0.2\n",
            "\u001b[?25l  Downloading https://files.pythonhosted.org/packages/27/3c/91ed8f5c4e7ef3227b4119200fc0ed4b4fd965b1f0172021c25701087825/transformers-3.0.2-py3-none-any.whl (769kB)\n",
            "\u001b[K     |████████████████████████████████| 778kB 43.2MB/s \n",
            "\u001b[?25hRequirement already satisfied, skipping upgrade: keras==2.4.3 in /usr/local/lib/python3.6/dist-packages (from libra) (2.4.3)\n",
            "Requirement already satisfied, skipping upgrade: altair==4.1.0 in /usr/local/lib/python3.6/dist-packages (from libra) (4.1.0)\n",
            "Requirement already satisfied, skipping upgrade: preshed<3.1.0,>=3.0.2 in /usr/local/lib/python3.6/dist-packages (from spacy->libra) (3.0.2)\n",
            "Requirement already satisfied, skipping upgrade: srsly<1.1.0,>=1.0.2 in /usr/local/lib/python3.6/dist-packages (from spacy->libra) (1.0.2)\n",
            "Requirement already satisfied, skipping upgrade: requests<3.0.0,>=2.13.0 in /usr/local/lib/python3.6/dist-packages (from spacy->libra) (2.23.0)\n",
            "Requirement already satisfied, skipping upgrade: plac<1.2.0,>=0.9.6 in /usr/local/lib/python3.6/dist-packages (from spacy->libra) (1.1.3)\n",
            "Requirement already satisfied, skipping upgrade: catalogue<1.1.0,>=0.0.7 in /usr/local/lib/python3.6/dist-packages (from spacy->libra) (1.0.0)\n",
            "Requirement already satisfied, skipping upgrade: blis<0.5.0,>=0.4.0 in /usr/local/lib/python3.6/dist-packages (from spacy->libra) (0.4.1)\n",
            "Requirement already satisfied, skipping upgrade: murmurhash<1.1.0,>=0.28.0 in /usr/local/lib/python3.6/dist-packages (from spacy->libra) (1.0.3)\n",
            "Requirement already satisfied, skipping upgrade: setuptools in /usr/local/lib/python3.6/dist-packages (from spacy->libra) (50.3.2)\n",
            "Requirement already satisfied, skipping upgrade: cymem<2.1.0,>=2.0.2 in /usr/local/lib/python3.6/dist-packages (from spacy->libra) (2.0.4)\n",
            "Requirement already satisfied, skipping upgrade: wasabi<1.1.0,>=0.4.0 in /usr/local/lib/python3.6/dist-packages (from spacy->libra) (0.8.0)\n",
            "Requirement already satisfied, skipping upgrade: thinc==7.4.0 in /usr/local/lib/python3.6/dist-packages (from spacy->libra) (7.4.0)\n",
            "Requirement already satisfied, skipping upgrade: tqdm<5.0.0,>=4.38.0 in /usr/local/lib/python3.6/dist-packages (from spacy->libra) (4.41.1)\n",
            "Requirement already satisfied, skipping upgrade: six in /usr/local/lib/python3.6/dist-packages (from nltk->libra) (1.15.0)\n",
            "Requirement already satisfied, skipping upgrade: kiwisolver>=1.0.1 in /usr/local/lib/python3.6/dist-packages (from matplotlib->libra) (1.3.1)\n",
            "Requirement already satisfied, skipping upgrade: cycler>=0.10 in /usr/local/lib/python3.6/dist-packages (from matplotlib->libra) (0.10.0)\n",
            "Requirement already satisfied, skipping upgrade: python-dateutil>=2.1 in /usr/local/lib/python3.6/dist-packages (from matplotlib->libra) (2.8.1)\n",
            "Requirement already satisfied, skipping upgrade: pyparsing!=2.0.4,!=2.1.2,!=2.1.6,>=2.0.1 in /usr/local/lib/python3.6/dist-packages (from matplotlib->libra) (2.4.7)\n",
            "Requirement already satisfied, skipping upgrade: tensorflow<3,>=2.1.0 in /usr/local/lib/python3.6/dist-packages (from tensorflowjs->libra) (2.3.0)\n",
            "Requirement already satisfied, skipping upgrade: h5py<3,>=2.8.0 in /usr/local/lib/python3.6/dist-packages (from tensorflowjs->libra) (2.10.0)\n",
            "Collecting tensorflow-hub<0.10,>=0.7.0\n",
            "\u001b[?25l  Downloading https://files.pythonhosted.org/packages/ac/83/a7df82744a794107641dad1decaad017d82e25f0e1f761ac9204829eef96/tensorflow_hub-0.9.0-py2.py3-none-any.whl (103kB)\n",
            "\u001b[K     |████████████████████████████████| 112kB 43.4MB/s \n",
            "\u001b[?25hRequirement already satisfied, skipping upgrade: scipy>=1.0 in /usr/local/lib/python3.6/dist-packages (from seaborn->libra) (1.4.1)\n",
            "Requirement already satisfied, skipping upgrade: scikit-learn>=0.22.1 in /usr/local/lib/python3.6/dist-packages (from prince->libra) (0.22.2.post1)\n",
            "Requirement already satisfied, skipping upgrade: future in /usr/local/lib/python3.6/dist-packages (from keras-tuner->libra) (0.16.0)\n",
            "Collecting terminaltables\n",
            "  Downloading https://files.pythonhosted.org/packages/9b/c4/4a21174f32f8a7e1104798c445dacdc1d4df86f2f26722767034e4de4bff/terminaltables-3.1.0.tar.gz\n",
            "Requirement already satisfied, skipping upgrade: tornado>=5.0 in /usr/local/lib/python3.6/dist-packages (from streamlit==0.64.0->libra) (5.1.1)\n",
            "Requirement already satisfied, skipping upgrade: cachetools>=4.0 in /usr/local/lib/python3.6/dist-packages (from streamlit==0.64.0->libra) (4.1.1)\n",
            "Collecting validators\n",
            "  Downloading https://files.pythonhosted.org/packages/41/4a/3360ff3cf2b4a1b9721ac1fbff5f84663f41047d9874b3aa1ac82e862c44/validators-0.18.1-py3-none-any.whl\n",
            "Requirement already satisfied, skipping upgrade: protobuf>=3.6.0 in /usr/local/lib/python3.6/dist-packages (from streamlit==0.64.0->libra) (3.12.4)\n",
            "Collecting boto3\n",
            "\u001b[?25l  Downloading https://files.pythonhosted.org/packages/1a/af/f7a74e19d73ae492fc3171417b4d348fbdff90745867be1f048cd01d7c59/boto3-1.16.22-py2.py3-none-any.whl (129kB)\n",
            "\u001b[K     |████████████████████████████████| 133kB 49.2MB/s \n",
            "\u001b[?25hCollecting enum-compat\n",
            "  Downloading https://files.pythonhosted.org/packages/55/ae/467bc4509246283bb59746e21a1a2f5a8aecbef56b1fa6eaca78cd438c8b/enum_compat-0.0.3-py3-none-any.whl\n",
            "Collecting watchdog\n",
            "\u001b[?25l  Downloading https://files.pythonhosted.org/packages/0e/06/121302598a4fc01aca942d937f4a2c33430b7181137b35758913a8db10ad/watchdog-0.10.3.tar.gz (94kB)\n",
            "\u001b[K     |████████████████████████████████| 102kB 11.8MB/s \n",
            "\u001b[?25hCollecting base58\n",
            "  Downloading https://files.pythonhosted.org/packages/3c/03/58572025c77b9e6027155b272a1b96298e711cd4f95c24967f7137ab0c4b/base58-2.0.1-py3-none-any.whl\n",
            "Requirement already satisfied, skipping upgrade: toml in /usr/local/lib/python3.6/dist-packages (from streamlit==0.64.0->libra) (0.10.2)\n",
            "Requirement already satisfied, skipping upgrade: pyarrow in /usr/local/lib/python3.6/dist-packages (from streamlit==0.64.0->libra) (0.14.1)\n",
            "Collecting botocore>=1.13.44\n",
            "\u001b[?25l  Downloading https://files.pythonhosted.org/packages/30/7e/4ac4d23d11e5e0b451cb5fb81e13f11ef5965d27ff9936884c2a6cc91c48/botocore-1.19.22-py2.py3-none-any.whl (6.8MB)\n",
            "\u001b[K     |████████████████████████████████| 6.8MB 42.6MB/s \n",
            "\u001b[?25hRequirement already satisfied, skipping upgrade: click>=7.0 in /usr/local/lib/python3.6/dist-packages (from streamlit==0.64.0->libra) (7.1.2)\n",
            "Requirement already satisfied, skipping upgrade: tzlocal in /usr/local/lib/python3.6/dist-packages (from streamlit==0.64.0->libra) (1.5.1)\n",
            "Requirement already satisfied, skipping upgrade: packaging in /usr/local/lib/python3.6/dist-packages (from streamlit==0.64.0->libra) (20.4)\n",
            "Collecting blinker\n",
            "\u001b[?25l  Downloading https://files.pythonhosted.org/packages/1b/51/e2a9f3b757eb802f61dc1f2b09c8c99f6eb01cf06416c0671253536517b6/blinker-1.4.tar.gz (111kB)\n",
            "\u001b[K     |████████████████████████████████| 112kB 52.0MB/s \n",
            "\u001b[?25hCollecting pydeck>=0.1.dev5\n",
            "\u001b[?25l  Downloading https://files.pythonhosted.org/packages/9e/9d/8fbf1f56cc5891e6c3295bf94fc176e9ab0a3ffdd090cc8b354ac2640f9a/pydeck-0.5.0-py2.py3-none-any.whl (4.5MB)\n",
            "\u001b[K     |████████████████████████████████| 4.5MB 40.5MB/s \n",
            "\u001b[?25hRequirement already satisfied, skipping upgrade: astor in /usr/local/lib/python3.6/dist-packages (from streamlit==0.64.0->libra) (0.8.1)\n",
            "Requirement already satisfied, skipping upgrade: pytz>=2017.2 in /usr/local/lib/python3.6/dist-packages (from pandas->libra) (2018.9)\n",
            "Requirement already satisfied, skipping upgrade: astunparse==1.6.3 in /usr/local/lib/python3.6/dist-packages (from tensorflow-gpu==2.3.1->libra) (1.6.3)\n",
            "Requirement already satisfied, skipping upgrade: termcolor>=1.1.0 in /usr/local/lib/python3.6/dist-packages (from tensorflow-gpu==2.3.1->libra) (1.1.0)\n",
            "Requirement already satisfied, skipping upgrade: google-pasta>=0.1.8 in /usr/local/lib/python3.6/dist-packages (from tensorflow-gpu==2.3.1->libra) (0.2.0)\n",
            "Requirement already satisfied, skipping upgrade: tensorflow-estimator<2.4.0,>=2.3.0 in /usr/local/lib/python3.6/dist-packages (from tensorflow-gpu==2.3.1->libra) (2.3.0)\n",
            "Requirement already satisfied, skipping upgrade: keras-preprocessing<1.2,>=1.1.1 in /usr/local/lib/python3.6/dist-packages (from tensorflow-gpu==2.3.1->libra) (1.1.2)\n",
            "Requirement already satisfied, skipping upgrade: gast==0.3.3 in /usr/local/lib/python3.6/dist-packages (from tensorflow-gpu==2.3.1->libra) (0.3.3)\n",
            "Requirement already satisfied, skipping upgrade: opt-einsum>=2.3.2 in /usr/local/lib/python3.6/dist-packages (from tensorflow-gpu==2.3.1->libra) (3.3.0)\n",
            "Requirement already satisfied, skipping upgrade: absl-py>=0.7.0 in /usr/local/lib/python3.6/dist-packages (from tensorflow-gpu==2.3.1->libra) (0.10.0)\n",
            "Requirement already satisfied, skipping upgrade: grpcio>=1.8.6 in /usr/local/lib/python3.6/dist-packages (from tensorflow-gpu==2.3.1->libra) (1.33.2)\n",
            "Requirement already satisfied, skipping upgrade: tensorboard<3,>=2.3.0 in /usr/local/lib/python3.6/dist-packages (from tensorflow-gpu==2.3.1->libra) (2.3.0)\n",
            "Requirement already satisfied, skipping upgrade: wrapt>=1.11.1 in /usr/local/lib/python3.6/dist-packages (from tensorflow-gpu==2.3.1->libra) (1.12.1)\n",
            "Requirement already satisfied, skipping upgrade: wheel>=0.26 in /usr/local/lib/python3.6/dist-packages (from tensorflow-gpu==2.3.1->libra) (0.35.1)\n",
            "Collecting tokenizers==0.8.1.rc1\n",
            "\u001b[?25l  Downloading https://files.pythonhosted.org/packages/40/d0/30d5f8d221a0ed981a186c8eb986ce1c94e3a6e87f994eae9f4aa5250217/tokenizers-0.8.1rc1-cp36-cp36m-manylinux1_x86_64.whl (3.0MB)\n",
            "\u001b[K     |████████████████████████████████| 3.0MB 46.0MB/s \n",
            "\u001b[?25hRequirement already satisfied, skipping upgrade: dataclasses; python_version < \"3.7\" in /usr/local/lib/python3.6/dist-packages (from transformers==3.0.2->libra) (0.7)\n",
            "Requirement already satisfied, skipping upgrade: filelock in /usr/local/lib/python3.6/dist-packages (from transformers==3.0.2->libra) (3.0.12)\n",
            "Collecting sacremoses\n",
            "\u001b[?25l  Downloading https://files.pythonhosted.org/packages/7d/34/09d19aff26edcc8eb2a01bed8e98f13a1537005d31e95233fd48216eed10/sacremoses-0.0.43.tar.gz (883kB)\n",
            "\u001b[K     |████████████████████████████████| 890kB 36.4MB/s \n",
            "\u001b[?25hRequirement already satisfied, skipping upgrade: regex!=2019.12.17 in /usr/local/lib/python3.6/dist-packages (from transformers==3.0.2->libra) (2019.12.20)\n",
            "Collecting sentencepiece!=0.1.92\n",
            "\u001b[?25l  Downloading https://files.pythonhosted.org/packages/e5/2d/6d4ca4bef9a67070fa1cac508606328329152b1df10bdf31fb6e4e727894/sentencepiece-0.1.94-cp36-cp36m-manylinux2014_x86_64.whl (1.1MB)\n",
            "\u001b[K     |████████████████████████████████| 1.1MB 40.7MB/s \n",
            "\u001b[?25hRequirement already satisfied, skipping upgrade: pyyaml in /usr/local/lib/python3.6/dist-packages (from keras==2.4.3->libra) (3.13)\n",
            "Requirement already satisfied, skipping upgrade: jsonschema in /usr/local/lib/python3.6/dist-packages (from altair==4.1.0->libra) (2.6.0)\n",
            "Requirement already satisfied, skipping upgrade: toolz in /usr/local/lib/python3.6/dist-packages (from altair==4.1.0->libra) (0.11.1)\n",
            "Requirement already satisfied, skipping upgrade: entrypoints in /usr/local/lib/python3.6/dist-packages (from altair==4.1.0->libra) (0.3)\n",
            "Requirement already satisfied, skipping upgrade: jinja2 in /usr/local/lib/python3.6/dist-packages (from altair==4.1.0->libra) (2.11.2)\n",
            "Requirement already satisfied, skipping upgrade: chardet<4,>=3.0.2 in /usr/local/lib/python3.6/dist-packages (from requests<3.0.0,>=2.13.0->spacy->libra) (3.0.4)\n",
            "Requirement already satisfied, skipping upgrade: idna<3,>=2.5 in /usr/local/lib/python3.6/dist-packages (from requests<3.0.0,>=2.13.0->spacy->libra) (2.10)\n",
            "Requirement already satisfied, skipping upgrade: urllib3!=1.25.0,!=1.25.1,<1.26,>=1.21.1 in /usr/local/lib/python3.6/dist-packages (from requests<3.0.0,>=2.13.0->spacy->libra) (1.24.3)\n",
            "Requirement already satisfied, skipping upgrade: certifi>=2017.4.17 in /usr/local/lib/python3.6/dist-packages (from requests<3.0.0,>=2.13.0->spacy->libra) (2020.6.20)\n",
            "Requirement already satisfied, skipping upgrade: importlib-metadata>=0.20; python_version < \"3.8\" in /usr/local/lib/python3.6/dist-packages (from catalogue<1.1.0,>=0.0.7->spacy->libra) (2.0.0)\n",
            "Requirement already satisfied, skipping upgrade: joblib>=0.11 in /usr/local/lib/python3.6/dist-packages (from scikit-learn>=0.22.1->prince->libra) (0.17.0)\n",
            "Requirement already satisfied, skipping upgrade: decorator>=3.4.0 in /usr/local/lib/python3.6/dist-packages (from validators->streamlit==0.64.0->libra) (4.4.2)\n",
            "Collecting jmespath<1.0.0,>=0.7.1\n",
            "  Downloading https://files.pythonhosted.org/packages/07/cb/5f001272b6faeb23c1c9e0acc04d48eaaf5c862c17709d20e3469c6e0139/jmespath-0.10.0-py2.py3-none-any.whl\n",
            "Collecting s3transfer<0.4.0,>=0.3.0\n",
            "\u001b[?25l  Downloading https://files.pythonhosted.org/packages/69/79/e6afb3d8b0b4e96cefbdc690f741d7dd24547ff1f94240c997a26fa908d3/s3transfer-0.3.3-py2.py3-none-any.whl (69kB)\n",
            "\u001b[K     |████████████████████████████████| 71kB 6.8MB/s \n",
            "\u001b[?25hCollecting pathtools>=0.1.1\n",
            "  Downloading https://files.pythonhosted.org/packages/e7/7f/470d6fcdf23f9f3518f6b0b76be9df16dcc8630ad409947f8be2eb0ed13a/pathtools-0.1.2.tar.gz\n",
            "Requirement already satisfied, skipping upgrade: ipywidgets>=7.0.0 in /usr/local/lib/python3.6/dist-packages (from pydeck>=0.1.dev5->streamlit==0.64.0->libra) (7.5.1)\n",
            "Requirement already satisfied, skipping upgrade: traitlets>=4.3.2 in /usr/local/lib/python3.6/dist-packages (from pydeck>=0.1.dev5->streamlit==0.64.0->libra) (4.3.3)\n",
            "Collecting ipykernel>=5.1.2; python_version >= \"3.4\"\n",
            "\u001b[?25l  Downloading https://files.pythonhosted.org/packages/52/19/c2812690d8b340987eecd2cbc18549b1d130b94c5d97fcbe49f5f8710edf/ipykernel-5.3.4-py3-none-any.whl (120kB)\n",
            "\u001b[K     |████████████████████████████████| 122kB 49.2MB/s \n",
            "\u001b[?25hRequirement already satisfied, skipping upgrade: google-auth-oauthlib<0.5,>=0.4.1 in /usr/local/lib/python3.6/dist-packages (from tensorboard<3,>=2.3.0->tensorflow-gpu==2.3.1->libra) (0.4.2)\n",
            "Requirement already satisfied, skipping upgrade: google-auth<2,>=1.6.3 in /usr/local/lib/python3.6/dist-packages (from tensorboard<3,>=2.3.0->tensorflow-gpu==2.3.1->libra) (1.17.2)\n",
            "Requirement already satisfied, skipping upgrade: markdown>=2.6.8 in /usr/local/lib/python3.6/dist-packages (from tensorboard<3,>=2.3.0->tensorflow-gpu==2.3.1->libra) (3.3.3)\n",
            "Requirement already satisfied, skipping upgrade: werkzeug>=0.11.15 in /usr/local/lib/python3.6/dist-packages (from tensorboard<3,>=2.3.0->tensorflow-gpu==2.3.1->libra) (1.0.1)\n",
            "Requirement already satisfied, skipping upgrade: tensorboard-plugin-wit>=1.6.0 in /usr/local/lib/python3.6/dist-packages (from tensorboard<3,>=2.3.0->tensorflow-gpu==2.3.1->libra) (1.7.0)\n",
            "Requirement already satisfied, skipping upgrade: MarkupSafe>=0.23 in /usr/local/lib/python3.6/dist-packages (from jinja2->altair==4.1.0->libra) (1.1.1)\n",
            "Requirement already satisfied, skipping upgrade: zipp>=0.5 in /usr/local/lib/python3.6/dist-packages (from importlib-metadata>=0.20; python_version < \"3.8\"->catalogue<1.1.0,>=0.0.7->spacy->libra) (3.4.0)\n",
            "Requirement already satisfied, skipping upgrade: ipython>=4.0.0; python_version >= \"3.3\" in /usr/local/lib/python3.6/dist-packages (from ipywidgets>=7.0.0->pydeck>=0.1.dev5->streamlit==0.64.0->libra) (5.5.0)\n",
            "Requirement already satisfied, skipping upgrade: widgetsnbextension~=3.5.0 in /usr/local/lib/python3.6/dist-packages (from ipywidgets>=7.0.0->pydeck>=0.1.dev5->streamlit==0.64.0->libra) (3.5.1)\n",
            "Requirement already satisfied, skipping upgrade: nbformat>=4.2.0 in /usr/local/lib/python3.6/dist-packages (from ipywidgets>=7.0.0->pydeck>=0.1.dev5->streamlit==0.64.0->libra) (5.0.8)\n",
            "Requirement already satisfied, skipping upgrade: ipython-genutils in /usr/local/lib/python3.6/dist-packages (from traitlets>=4.3.2->pydeck>=0.1.dev5->streamlit==0.64.0->libra) (0.2.0)\n",
            "Requirement already satisfied, skipping upgrade: jupyter-client in /usr/local/lib/python3.6/dist-packages (from ipykernel>=5.1.2; python_version >= \"3.4\"->pydeck>=0.1.dev5->streamlit==0.64.0->libra) (5.3.5)\n",
            "Requirement already satisfied, skipping upgrade: requests-oauthlib>=0.7.0 in /usr/local/lib/python3.6/dist-packages (from google-auth-oauthlib<0.5,>=0.4.1->tensorboard<3,>=2.3.0->tensorflow-gpu==2.3.1->libra) (1.3.0)\n",
            "Requirement already satisfied, skipping upgrade: rsa<5,>=3.1.4; python_version >= \"3\" in /usr/local/lib/python3.6/dist-packages (from google-auth<2,>=1.6.3->tensorboard<3,>=2.3.0->tensorflow-gpu==2.3.1->libra) (4.6)\n",
            "Requirement already satisfied, skipping upgrade: pyasn1-modules>=0.2.1 in /usr/local/lib/python3.6/dist-packages (from google-auth<2,>=1.6.3->tensorboard<3,>=2.3.0->tensorflow-gpu==2.3.1->libra) (0.2.8)\n",
            "Requirement already satisfied, skipping upgrade: pygments in /usr/local/lib/python3.6/dist-packages (from ipython>=4.0.0; python_version >= \"3.3\"->ipywidgets>=7.0.0->pydeck>=0.1.dev5->streamlit==0.64.0->libra) (2.6.1)\n",
            "Requirement already satisfied, skipping upgrade: simplegeneric>0.8 in /usr/local/lib/python3.6/dist-packages (from ipython>=4.0.0; python_version >= \"3.3\"->ipywidgets>=7.0.0->pydeck>=0.1.dev5->streamlit==0.64.0->libra) (0.8.1)\n",
            "Requirement already satisfied, skipping upgrade: pickleshare in /usr/local/lib/python3.6/dist-packages (from ipython>=4.0.0; python_version >= \"3.3\"->ipywidgets>=7.0.0->pydeck>=0.1.dev5->streamlit==0.64.0->libra) (0.7.5)\n",
            "Requirement already satisfied, skipping upgrade: pexpect; sys_platform != \"win32\" in /usr/local/lib/python3.6/dist-packages (from ipython>=4.0.0; python_version >= \"3.3\"->ipywidgets>=7.0.0->pydeck>=0.1.dev5->streamlit==0.64.0->libra) (4.8.0)\n",
            "Requirement already satisfied, skipping upgrade: prompt-toolkit<2.0.0,>=1.0.4 in /usr/local/lib/python3.6/dist-packages (from ipython>=4.0.0; python_version >= \"3.3\"->ipywidgets>=7.0.0->pydeck>=0.1.dev5->streamlit==0.64.0->libra) (1.0.18)\n",
            "Requirement already satisfied, skipping upgrade: notebook>=4.4.1 in /usr/local/lib/python3.6/dist-packages (from widgetsnbextension~=3.5.0->ipywidgets>=7.0.0->pydeck>=0.1.dev5->streamlit==0.64.0->libra) (5.3.1)\n",
            "Requirement already satisfied, skipping upgrade: jupyter-core in /usr/local/lib/python3.6/dist-packages (from nbformat>=4.2.0->ipywidgets>=7.0.0->pydeck>=0.1.dev5->streamlit==0.64.0->libra) (4.6.3)\n",
            "Requirement already satisfied, skipping upgrade: pyzmq>=13 in /usr/local/lib/python3.6/dist-packages (from jupyter-client->ipykernel>=5.1.2; python_version >= \"3.4\"->pydeck>=0.1.dev5->streamlit==0.64.0->libra) (19.0.2)\n",
            "Requirement already satisfied, skipping upgrade: oauthlib>=3.0.0 in /usr/local/lib/python3.6/dist-packages (from requests-oauthlib>=0.7.0->google-auth-oauthlib<0.5,>=0.4.1->tensorboard<3,>=2.3.0->tensorflow-gpu==2.3.1->libra) (3.1.0)\n",
            "Requirement already satisfied, skipping upgrade: pyasn1>=0.1.3 in /usr/local/lib/python3.6/dist-packages (from rsa<5,>=3.1.4; python_version >= \"3\"->google-auth<2,>=1.6.3->tensorboard<3,>=2.3.0->tensorflow-gpu==2.3.1->libra) (0.4.8)\n",
            "Requirement already satisfied, skipping upgrade: ptyprocess>=0.5 in /usr/local/lib/python3.6/dist-packages (from pexpect; sys_platform != \"win32\"->ipython>=4.0.0; python_version >= \"3.3\"->ipywidgets>=7.0.0->pydeck>=0.1.dev5->streamlit==0.64.0->libra) (0.6.0)\n",
            "Requirement already satisfied, skipping upgrade: wcwidth in /usr/local/lib/python3.6/dist-packages (from prompt-toolkit<2.0.0,>=1.0.4->ipython>=4.0.0; python_version >= \"3.3\"->ipywidgets>=7.0.0->pydeck>=0.1.dev5->streamlit==0.64.0->libra) (0.2.5)\n",
            "Requirement already satisfied, skipping upgrade: terminado>=0.8.1 in /usr/local/lib/python3.6/dist-packages (from notebook>=4.4.1->widgetsnbextension~=3.5.0->ipywidgets>=7.0.0->pydeck>=0.1.dev5->streamlit==0.64.0->libra) (0.9.1)\n",
            "Requirement already satisfied, skipping upgrade: nbconvert in /usr/local/lib/python3.6/dist-packages (from notebook>=4.4.1->widgetsnbextension~=3.5.0->ipywidgets>=7.0.0->pydeck>=0.1.dev5->streamlit==0.64.0->libra) (5.6.1)\n",
            "Requirement already satisfied, skipping upgrade: Send2Trash in /usr/local/lib/python3.6/dist-packages (from notebook>=4.4.1->widgetsnbextension~=3.5.0->ipywidgets>=7.0.0->pydeck>=0.1.dev5->streamlit==0.64.0->libra) (1.5.0)\n",
            "Requirement already satisfied, skipping upgrade: defusedxml in /usr/local/lib/python3.6/dist-packages (from nbconvert->notebook>=4.4.1->widgetsnbextension~=3.5.0->ipywidgets>=7.0.0->pydeck>=0.1.dev5->streamlit==0.64.0->libra) (0.6.0)\n",
            "Requirement already satisfied, skipping upgrade: bleach in /usr/local/lib/python3.6/dist-packages (from nbconvert->notebook>=4.4.1->widgetsnbextension~=3.5.0->ipywidgets>=7.0.0->pydeck>=0.1.dev5->streamlit==0.64.0->libra) (3.2.1)\n",
            "Requirement already satisfied, skipping upgrade: mistune<2,>=0.8.1 in /usr/local/lib/python3.6/dist-packages (from nbconvert->notebook>=4.4.1->widgetsnbextension~=3.5.0->ipywidgets>=7.0.0->pydeck>=0.1.dev5->streamlit==0.64.0->libra) (0.8.4)\n",
            "Requirement already satisfied, skipping upgrade: testpath in /usr/local/lib/python3.6/dist-packages (from nbconvert->notebook>=4.4.1->widgetsnbextension~=3.5.0->ipywidgets>=7.0.0->pydeck>=0.1.dev5->streamlit==0.64.0->libra) (0.4.4)\n",
            "Requirement already satisfied, skipping upgrade: pandocfilters>=1.4.1 in /usr/local/lib/python3.6/dist-packages (from nbconvert->notebook>=4.4.1->widgetsnbextension~=3.5.0->ipywidgets>=7.0.0->pydeck>=0.1.dev5->streamlit==0.64.0->libra) (1.4.3)\n",
            "Requirement already satisfied, skipping upgrade: webencodings in /usr/local/lib/python3.6/dist-packages (from bleach->nbconvert->notebook>=4.4.1->widgetsnbextension~=3.5.0->ipywidgets>=7.0.0->pydeck>=0.1.dev5->streamlit==0.64.0->libra) (0.5.1)\n",
            "Building wheels for collected packages: autocorrect, keras-tuner, terminaltables, watchdog, blinker, sacremoses, pathtools\n",
            "  Building wheel for autocorrect (setup.py) ... \u001b[?25l\u001b[?25hdone\n",
            "  Created wheel for autocorrect: filename=autocorrect-2.2.2-cp36-none-any.whl size=621491 sha256=34f8c213374c0351d9aa67938fcbbc2f1d9cb81b185c0cf13eee4789aaf26bf2\n",
            "  Stored in directory: /root/.cache/pip/wheels/b4/0b/7d/98268d64c8697425f712c897265394486542141bbe4de319d6\n",
            "  Building wheel for keras-tuner (setup.py) ... \u001b[?25l\u001b[?25hdone\n",
            "  Created wheel for keras-tuner: filename=keras_tuner-1.0.1-cp36-none-any.whl size=73200 sha256=2f57af106a639a4fe3bb3ce68935974cce20ff478690a337b7483a9067b12192\n",
            "  Stored in directory: /root/.cache/pip/wheels/b9/cc/62/52716b70dd90f3db12519233c3a93a5360bc672da1a10ded43\n",
            "  Building wheel for terminaltables (setup.py) ... \u001b[?25l\u001b[?25hdone\n",
            "  Created wheel for terminaltables: filename=terminaltables-3.1.0-cp36-none-any.whl size=15356 sha256=e0c85f7eb7c5791cc661a7078b7e467c644dc3e9c800b2f520880b0ff0898085\n",
            "  Stored in directory: /root/.cache/pip/wheels/30/6b/50/6c75775b681fb36cdfac7f19799888ef9d8813aff9e379663e\n",
            "  Building wheel for watchdog (setup.py) ... \u001b[?25l\u001b[?25hdone\n",
            "  Created wheel for watchdog: filename=watchdog-0.10.3-cp36-none-any.whl size=73873 sha256=83b342a82b9e8bab764df60c551f499ac63b7d924e836169e012cf3a8f0b93f3\n",
            "  Stored in directory: /root/.cache/pip/wheels/a8/1d/38/2c19bb311f67cc7b4d07a2ec5ea36ab1a0a0ea50db994a5bc7\n",
            "  Building wheel for blinker (setup.py) ... \u001b[?25l\u001b[?25hdone\n",
            "  Created wheel for blinker: filename=blinker-1.4-cp36-none-any.whl size=13450 sha256=1496ebc1a669d0677be8e55f451209b2d5fea74ba957ea018c4baeaf8fbc6931\n",
            "  Stored in directory: /root/.cache/pip/wheels/92/a0/00/8690a57883956a301d91cf4ec999cc0b258b01e3f548f86e89\n",
            "  Building wheel for sacremoses (setup.py) ... \u001b[?25l\u001b[?25hdone\n",
            "  Created wheel for sacremoses: filename=sacremoses-0.0.43-cp36-none-any.whl size=893257 sha256=be8ae53a885ac68971ad01ee449b98cd03dbcb2743741b8f3d8ed806fd755a0f\n",
            "  Stored in directory: /root/.cache/pip/wheels/29/3c/fd/7ce5c3f0666dab31a50123635e6fb5e19ceb42ce38d4e58f45\n",
            "  Building wheel for pathtools (setup.py) ... \u001b[?25l\u001b[?25hdone\n",
            "  Created wheel for pathtools: filename=pathtools-0.1.2-cp36-none-any.whl size=8785 sha256=117f0cae58a516ab8a1056d1276b1bbbb894a30cdbdd50632b67074d56de4233\n",
            "  Stored in directory: /root/.cache/pip/wheels/0b/04/79/c3b0c3a0266a3cb4376da31e5bfe8bba0c489246968a68e843\n",
            "Successfully built autocorrect keras-tuner terminaltables watchdog blinker sacremoses pathtools\n",
            "\u001b[31mERROR: google-colab 1.0.0 has requirement ipykernel~=4.10, but you'll have ipykernel 5.3.4 which is incompatible.\u001b[0m\n",
            "\u001b[31mERROR: botocore 1.19.22 has requirement urllib3<1.27,>=1.25.4; python_version != \"3.4\", but you'll have urllib3 1.24.3 which is incompatible.\u001b[0m\n",
            "Installing collected packages: autocorrect, download, tensorflow-hub, tensorflowjs, jellyfish, prince, terminaltables, colorama, keras-tuner, validators, jmespath, botocore, s3transfer, boto3, enum-compat, pathtools, watchdog, base58, blinker, ipykernel, pydeck, streamlit, tensorflow-gpu, tokenizers, sacremoses, sentencepiece, transformers, libra\n",
            "  Found existing installation: tensorflow-hub 0.10.0\n",
            "    Uninstalling tensorflow-hub-0.10.0:\n",
            "      Successfully uninstalled tensorflow-hub-0.10.0\n",
            "  Found existing installation: ipykernel 4.10.1\n",
            "    Uninstalling ipykernel-4.10.1:\n",
            "      Successfully uninstalled ipykernel-4.10.1\n",
            "Successfully installed autocorrect-2.2.2 base58-2.0.1 blinker-1.4 boto3-1.16.22 botocore-1.19.22 colorama-0.4.4 download-0.3.5 enum-compat-0.0.3 ipykernel-5.3.4 jellyfish-0.8.2 jmespath-0.10.0 keras-tuner-1.0.1 libra-1.2.5 pathtools-0.1.2 prince-0.7.1 pydeck-0.5.0 s3transfer-0.3.3 sacremoses-0.0.43 sentencepiece-0.1.94 streamlit-0.64.0 tensorflow-gpu-2.3.1 tensorflow-hub-0.9.0 tensorflowjs-2.7.0 terminaltables-3.1.0 tokenizers-0.8.1rc1 transformers-3.0.2 validators-0.18.1 watchdog-0.10.3\n",
            "\u001b[31mERROR: Could not find a version that satisfies the requirement urllib (from versions: none)\u001b[0m\n",
            "\u001b[31mERROR: No matching distribution found for urllib\u001b[0m\n"
          ],
          "name": "stdout"
        }
      ]
    },
    {
      "cell_type": "code",
      "metadata": {
        "id": "h9EJan8k8nID",
        "colab": {
          "base_uri": "https://localhost:8080/"
        },
        "outputId": "d944d088-8d13-4b82-cf90-d60ea9242a50"
      },
      "source": [
        "# Run this once you have added the ICLab data (Add shortcut to 'My Drive')\n",
        "# https://drive.google.com/drive/folders/1jjSNjIIB0EWDachhaheHePXjvLQeNHkr\n",
        "\n",
        "from google.colab import drive\n",
        "drive.mount('/content/drive')"
      ],
      "execution_count": 2,
      "outputs": [
        {
          "output_type": "stream",
          "text": [
            "Drive already mounted at /content/drive; to attempt to forcibly remount, call drive.mount(\"/content/drive\", force_remount=True).\n"
          ],
          "name": "stdout"
        }
      ]
    },
    {
      "cell_type": "code",
      "metadata": {
        "id": "n4hUb7lF4MRl",
        "colab": {
          "base_uri": "https://localhost:8080/"
        },
        "outputId": "24cd3aa9-f84f-4d00-fba7-398b191b749b"
      },
      "source": [
        "# make sure there are csv files in the directory\n",
        "!ls \"/content/drive/My Drive/ICLab Data for S&P20 paper\""
      ],
      "execution_count": 3,
      "outputs": [
        {
          "output_type": "stream",
          "text": [
            " iclab_2017-01.csv   iclab_2017-09.csv\t iclab_2018-05.csv\n",
            " iclab_2017-02.csv   iclab_2017-10.csv\t iclab_2018-06.csv\n",
            " iclab_2017-03.csv   iclab_2017-11.csv\t iclab_2018-07.csv\n",
            " iclab_2017-04.csv   iclab_2017-12.csv\t iclab_2018-08.csv\n",
            " iclab_2017-05.csv   iclab_2018-01.csv\t iclab_2018-09.csv\n",
            " iclab_2017-06.csv   iclab_2018-02.csv\t'URL classification'\n",
            " iclab_2017-07.csv   iclab_2018-03.csv\n",
            " iclab_2017-08.csv   iclab_2018-04.csv\n"
          ],
          "name": "stdout"
        }
      ]
    },
    {
      "cell_type": "code",
      "metadata": {
        "id": "q7hISw4f-tR7"
      },
      "source": [
        "# Read in the data from My Drive symbolic link\n",
        "\n",
        "dir = '/content/drive/My Drive/ICLab Data for S&P20 paper'\n",
        "\n",
        "df = pd.read_csv(dir + '/iclab_2018-09.csv')"
      ],
      "execution_count": 4,
      "outputs": []
    },
    {
      "cell_type": "code",
      "metadata": {
        "id": "A0p99Oy1_LF6",
        "colab": {
          "base_uri": "https://localhost:8080/"
        },
        "outputId": "bb12d315-b3a2-4251-e44a-418f07596bdc"
      },
      "source": [
        "# Provide a quick summary of the data (features, count, type, entries)\n",
        "\n",
        "df.info()"
      ],
      "execution_count": 5,
      "outputs": [
        {
          "output_type": "stream",
          "text": [
            "<class 'pandas.core.frame.DataFrame'>\n",
            "RangeIndex: 1052887 entries, 0 to 1052886\n",
            "Data columns (total 17 columns):\n",
            " #   Column            Non-Null Count    Dtype  \n",
            "---  ------            --------------    -----  \n",
            " 0   filename          1052887 non-null  object \n",
            " 1   server_t          1052887 non-null  object \n",
            " 2   country           1052887 non-null  object \n",
            " 3   as_number         1034724 non-null  float64\n",
            " 4   schedule_name     1052887 non-null  object \n",
            " 5   url               1052887 non-null  object \n",
            " 6   dns               735638 non-null   object \n",
            " 7   dns_reason        267952 non-null   object \n",
            " 8   dns_all           998828 non-null   object \n",
            " 9   dns_reason_all    249893 non-null   object \n",
            " 10  http_status       898415 non-null   float64\n",
            " 11  block             898415 non-null   object \n",
            " 12  body_len          898415 non-null   float64\n",
            " 13  http_reason       898415 non-null   object \n",
            " 14  packet_updated    45244 non-null    object \n",
            " 15  packet_reason     45244 non-null    object \n",
            " 16  censored_updated  1052887 non-null  bool   \n",
            "dtypes: bool(1), float64(3), object(13)\n",
            "memory usage: 129.5+ MB\n"
          ],
          "name": "stdout"
        }
      ]
    },
    {
      "cell_type": "code",
      "metadata": {
        "id": "EfwI7X1R_dZJ",
        "colab": {
          "base_uri": "https://localhost:8080/",
          "height": 294
        },
        "outputId": "3fca272e-7182-4f81-df99-90f77708763a"
      },
      "source": [
        "df.describe()"
      ],
      "execution_count": 6,
      "outputs": [
        {
          "output_type": "execute_result",
          "data": {
            "text/html": [
              "<div>\n",
              "<style scoped>\n",
              "    .dataframe tbody tr th:only-of-type {\n",
              "        vertical-align: middle;\n",
              "    }\n",
              "\n",
              "    .dataframe tbody tr th {\n",
              "        vertical-align: top;\n",
              "    }\n",
              "\n",
              "    .dataframe thead th {\n",
              "        text-align: right;\n",
              "    }\n",
              "</style>\n",
              "<table border=\"1\" class=\"dataframe\">\n",
              "  <thead>\n",
              "    <tr style=\"text-align: right;\">\n",
              "      <th></th>\n",
              "      <th>as_number</th>\n",
              "      <th>http_status</th>\n",
              "      <th>body_len</th>\n",
              "    </tr>\n",
              "  </thead>\n",
              "  <tbody>\n",
              "    <tr>\n",
              "      <th>count</th>\n",
              "      <td>1.034724e+06</td>\n",
              "      <td>898415.000000</td>\n",
              "      <td>8.984150e+05</td>\n",
              "    </tr>\n",
              "    <tr>\n",
              "      <th>mean</th>\n",
              "      <td>7.289921e+04</td>\n",
              "      <td>179.898106</td>\n",
              "      <td>8.469376e+04</td>\n",
              "    </tr>\n",
              "    <tr>\n",
              "      <th>std</th>\n",
              "      <td>7.523522e+04</td>\n",
              "      <td>111.618692</td>\n",
              "      <td>1.663344e+05</td>\n",
              "    </tr>\n",
              "    <tr>\n",
              "      <th>min</th>\n",
              "      <td>1.249000e+03</td>\n",
              "      <td>-1.000000</td>\n",
              "      <td>0.000000e+00</td>\n",
              "    </tr>\n",
              "    <tr>\n",
              "      <th>25%</th>\n",
              "      <td>1.298900e+04</td>\n",
              "      <td>200.000000</td>\n",
              "      <td>1.064000e+03</td>\n",
              "    </tr>\n",
              "    <tr>\n",
              "      <th>50%</th>\n",
              "      <td>4.299400e+04</td>\n",
              "      <td>200.000000</td>\n",
              "      <td>2.341500e+04</td>\n",
              "    </tr>\n",
              "    <tr>\n",
              "      <th>75%</th>\n",
              "      <td>6.300800e+04</td>\n",
              "      <td>200.000000</td>\n",
              "      <td>9.106900e+04</td>\n",
              "    </tr>\n",
              "    <tr>\n",
              "      <th>max</th>\n",
              "      <td>3.951110e+05</td>\n",
              "      <td>999.000000</td>\n",
              "      <td>3.628628e+06</td>\n",
              "    </tr>\n",
              "  </tbody>\n",
              "</table>\n",
              "</div>"
            ],
            "text/plain": [
              "          as_number    http_status      body_len\n",
              "count  1.034724e+06  898415.000000  8.984150e+05\n",
              "mean   7.289921e+04     179.898106  8.469376e+04\n",
              "std    7.523522e+04     111.618692  1.663344e+05\n",
              "min    1.249000e+03      -1.000000  0.000000e+00\n",
              "25%    1.298900e+04     200.000000  1.064000e+03\n",
              "50%    4.299400e+04     200.000000  2.341500e+04\n",
              "75%    6.300800e+04     200.000000  9.106900e+04\n",
              "max    3.951110e+05     999.000000  3.628628e+06"
            ]
          },
          "metadata": {
            "tags": []
          },
          "execution_count": 6
        }
      ]
    },
    {
      "cell_type": "markdown",
      "metadata": {
        "id": "ROuabeMfAvHz"
      },
      "source": [
        "This is not entirely useful as *as_number* and *http_status* are discrete, but *body_len* may be used for censorship or show some interesting underlying patterns."
      ]
    },
    {
      "cell_type": "markdown",
      "metadata": {
        "id": "3hXtCFc5kMLo"
      },
      "source": [
        "**Data Cleanup and Feature Engineering**"
      ]
    },
    {
      "cell_type": "code",
      "metadata": {
        "id": "sjdrIbOs_plZ",
        "colab": {
          "base_uri": "https://localhost:8080/",
          "height": 1000
        },
        "outputId": "ad4518f9-6814-43f4-d5f3-a1c533145b3a"
      },
      "source": [
        "pd.set_option('display.max_colwidth', 0)\n",
        "df.agg(['unique']).transpose()"
      ],
      "execution_count": 7,
      "outputs": [
        {
          "output_type": "execute_result",
          "data": {
            "text/html": [
              "<div>\n",
              "<style scoped>\n",
              "    .dataframe tbody tr th:only-of-type {\n",
              "        vertical-align: middle;\n",
              "    }\n",
              "\n",
              "    .dataframe tbody tr th {\n",
              "        vertical-align: top;\n",
              "    }\n",
              "\n",
              "    .dataframe thead th {\n",
              "        text-align: right;\n",
              "    }\n",
              "</style>\n",
              "<table border=\"1\" class=\"dataframe\">\n",
              "  <thead>\n",
              "    <tr style=\"text-align: right;\">\n",
              "      <th></th>\n",
              "      <th>unique</th>\n",
              "    </tr>\n",
              "  </thead>\n",
              "  <tbody>\n",
              "    <tr>\n",
              "      <th>filename</th>\n",
              "      <td>[baseline-2018-09-01T000154.371069.json.bz2, baseline-2018-10-02T011527.678225.json.bz2, baseline-2018-09-01T002206.909253.json.bz2, baseline-2018-09-01T000211.982577.json.bz2, baseline-2018-09-01T012805.179303.json.bz2, baseline-2018-09-01T000348.154035.json.bz2, baseline-2018-09-29T122200.922828.json.bz2, baseline-2018-09-01T001914.221847.json.bz2, baseline-2018-09-01T002347.327314.json.bz2, baseline-2018-09-01T022556.188689.json.bz2, baseline-2018-09-01T012507.257001.json.bz2, baseline-2018-09-16T074206.498584.json.bz2, baseline-2018-09-29T015739.798070.json.bz2, baseline-2018-09-01T012755.940830.json.bz2, baseline-2018-09-01T014549.549549.json.bz2, baseline-2018-09-01T031201.944294.json.bz2, baseline-2018-09-01T031910.129586.json.bz2, baseline-2018-09-01T041723.359026.json.bz2, baseline-2018-09-18T112730.485175.json.bz2, baseline-2018-09-01T032809.041273.json.bz2, baseline-2018-09-01T043033.228301.json.bz2, baseline-2018-09-01T033020.601453.json.bz2, baseline-2018-09-29T183142.687279.json.bz2, baseline-2018-09-01T042033.228432.json.bz2, baseline-2018-09-01T055009.914886.json.bz2, baseline-2018-09-01T045208.307428.json.bz2, baseline-2018-09-01T064204.770879.json.bz2, baseline-2018-09-01T062346.951665.json.bz2, baseline-2018-09-25T085727.507107.json.bz2, baseline-2018-09-01T070700.369570.json.bz2, baseline-2018-09-01T080554.927843.json.bz2, baseline-2018-09-01T080609.035147.json.bz2, baseline-2018-09-01T084135.726037.json.bz2, baseline-2018-09-01T094301.914785.json.bz2, baseline-2018-09-01T100717.985693.json.bz2, baseline-2018-09-01T094813.042643.json.bz2, baseline-2018-09-01T084221.770008.json.bz2, baseline-2018-09-01T093527.657129.json.bz2, baseline-2018-09-01T104617.083913.json.bz2, baseline-2018-09-01T115336.125062.json.bz2, baseline-2018-09-01T110413.611776.json.bz2, baseline-2018-09-01T112734.851861.json.bz2, baseline-2018-09-01T122429.615098.json.bz2, baseline-2018-09-01T130937.370936.json.bz2, baseline-2018-09-01T132549.694038.json.bz2, baseline-2018-09-01T142921.828216.json.bz2, baseline-2018-09-01T133024.580958.json.bz2, baseline-2018-09-01T135130.512703.json.bz2, baseline-2018-09-01T153242.171205.json.bz2, baseline-2018-09-01T155959.708269.json.bz2, baseline-2018-09-01T145819.006208.json.bz2, baseline-2018-09-01T161700.324482.json.bz2, baseline-2018-09-01T152133.399919.json.bz2, baseline-2018-09-01T162506.050253.json.bz2, baseline-2018-09-01T164325.603238.json.bz2, baseline-2018-09-01T155840.772808.json.bz2, baseline-2018-09-01T170158.251843.json.bz2, baseline-2018-09-01T155931.769552.json.bz2, baseline-2018-09-24T214632.291619.json.bz2, baseline-2018-09-01T170123.077746.json.bz2, baseline-2018-09-16T084328.850857.json.bz2, baseline-2018-09-01T175721.886001.json.bz2, baseline-2018-09-01T172643.354094.json.bz2, baseline-2018-09-01T183403.564449.json.bz2, baseline-2018-09-20T003743.820612.json.bz2, baseline-2018-09-29T221602.443699.json.bz2, baseline-2018-09-29T210024.601853.json.bz2, baseline-2018-09-01T185540.188463.json.bz2, baseline-2018-09-01T173925.731773.json.bz2, baseline-2018-09-01T200019.659990.json.bz2, baseline-2018-09-01T224830.438845.json.bz2, baseline-2018-09-01T215218.852063.json.bz2, baseline-2018-09-01T223306.519698.json.bz2, baseline-2018-09-01T233135.165997.json.bz2, baseline-2018-09-01T230625.089331.json.bz2, baseline-2018-09-02T001809.925976.json.bz2, baseline-2018-09-02T013758.958945.json.bz2, baseline-2018-09-02T002126.252146.json.bz2, baseline-2018-09-02T002131.177627.json.bz2, baseline-2018-09-02T013818.909647.json.bz2, baseline-2018-09-02T002610.042334.json.bz2, baseline-2018-09-17T144653.568304.json.bz2, baseline-2018-09-02T010613.888775.json.bz2, baseline-2018-09-02T020907.268134.json.bz2, baseline-2018-09-02T024643.458483.json.bz2, baseline-2018-09-21T170739.291503.json.bz2, baseline-2018-09-02T023737.334076.json.bz2, baseline-2018-09-02T032356.148063.json.bz2, baseline-2018-09-02T022742.763006.json.bz2, baseline-2018-09-02T030122.647772.json.bz2, baseline-2018-09-02T041404.389483.json.bz2, baseline-2018-09-02T032809.990945.json.bz2, baseline-2018-09-09T061743.632577.json.bz2, baseline-2018-09-02T042833.963892.json.bz2, baseline-2018-09-02T080340.680588.json.bz2, baseline-2018-09-02T064008.565145.json.bz2, baseline-2018-09-02T070533.565298.json.bz2, baseline-2018-09-02T075844.852194.json.bz2, baseline-2018-09-02T074751.299903.json.bz2, baseline-2018-09-02T080457.312980.json.bz2, ...]</td>\n",
              "    </tr>\n",
              "    <tr>\n",
              "      <th>server_t</th>\n",
              "      <td>[2018-09-01T00:01:54.354Z, 2018-09-01T00:02:11.575Z, 2018-09-01T00:03:48.075Z, 2018-09-01T00:19:14.000Z, 2018-09-01T00:23:47.072Z, 2018-09-01T01:25:07.161Z, 2018-09-01T01:27:55.773Z, 2018-09-01T01:45:49.431Z, 2018-09-01T02:18:29.014Z, 2018-09-01T03:19:10.096Z, 2018-09-01T03:28:08.772Z, 2018-09-01T03:30:20.522Z, 2018-09-01T04:20:32.939Z, 2018-09-01T04:52:08.236Z, 2018-09-01T06:23:46.706Z, 2018-09-01T07:07:00.270Z, 2018-09-01T08:06:08.755Z, 2018-09-01T08:41:35.582Z, 2018-09-01T08:42:21.548Z, 2018-09-01T09:35:27.573Z, 2018-09-01T10:46:16.796Z, 2018-09-01T11:04:13.418Z, 2018-09-01T11:27:34.765Z, 2018-09-01T13:09:37.099Z, 2018-09-01T13:25:49.589Z, 2018-09-01T13:30:24.503Z, 2018-09-01T13:51:30.306Z, 2018-09-01T14:35:04.415Z, 2018-09-01T14:58:18.753Z, 2018-09-01T15:21:33.097Z, 2018-09-01T15:58:40.568Z, 2018-09-01T17:01:23.023Z, 2018-09-01T17:26:43.237Z, 2018-09-01T17:39:25.665Z, 2018-09-01T20:00:19.464Z, 2018-09-01T21:52:18.712Z, 2018-09-01T22:33:06.458Z, 2018-09-01T23:06:24.801Z, 2018-09-02T00:18:09.641Z, 2018-09-02T00:21:26.167Z, 2018-09-02T00:21:31.161Z, 2018-09-02T00:26:09.751Z, 2018-09-02T01:06:13.409Z, 2018-09-02T01:29:04.646Z, 2018-09-02T01:39:08.387Z, 2018-09-02T02:27:42.683Z, 2018-09-02T03:01:22.544Z, 2018-09-02T03:19:03.845Z, 2018-09-02T03:28:09.926Z, 2018-09-02T06:40:08.311Z, 2018-09-02T07:05:33.431Z, 2018-09-02T07:47:50.994Z, 2018-09-02T08:04:57.225Z, 2018-09-02T08:22:59.165Z, 2018-09-02T08:55:42.378Z, 2018-09-02T10:11:20.061Z, 2018-09-02T10:24:36.499Z, 2018-09-02T11:25:09.648Z, 2018-09-02T15:56:55.552Z, 2018-09-02T15:59:20.492Z, 2018-09-02T16:21:36.532Z, 2018-09-02T17:08:44.623Z, 2018-09-02T18:00:52.223Z, 2018-09-02T18:03:52.057Z, 2018-09-02T19:19:25.742Z, 2018-09-02T19:28:08.019Z, 2018-09-02T20:42:58.095Z, 2018-09-02T21:41:03.342Z, 2018-09-02T21:50:38.662Z, 2018-09-02T23:31:14.142Z, 2018-09-03T00:01:16.941Z, 2018-09-03T00:01:53.313Z, 2018-09-03T00:01:57.575Z, 2018-09-03T00:09:13.896Z, 2018-09-03T00:31:18.716Z, 2018-09-03T00:36:23.385Z, 2018-09-03T01:44:16.802Z, 2018-09-03T02:18:42.255Z, 2018-09-03T02:20:22.087Z, 2018-09-03T02:46:05.815Z, 2018-09-03T02:49:16.872Z, 2018-09-03T02:54:42.369Z, 2018-09-03T02:57:49.946Z, 2018-09-03T03:16:34.547Z, 2018-09-03T03:43:44.474Z, 2018-09-03T04:25:31.994Z, 2018-09-03T06:01:21.899Z, 2018-09-03T07:23:34.344Z, 2018-09-03T07:35:18.058Z, 2018-09-03T08:50:26.472Z, 2018-09-03T11:54:52.867Z, 2018-09-03T12:03:09.827Z, 2018-09-03T12:14:29.018Z, 2018-09-03T12:28:34.971Z, 2018-09-03T14:05:58.537Z, 2018-09-03T14:46:10.510Z, 2018-09-03T15:30:24.566Z, 2018-09-03T16:05:50.862Z, 2018-09-03T16:18:36.488Z, 2018-09-03T19:03:06.150Z, ...]</td>\n",
              "    </tr>\n",
              "    <tr>\n",
              "      <th>country</th>\n",
              "      <td>[US, KR, ES, ZA, CZ, PL, MY, RU, CN, TW, BG, HK, RO, PE, HU, NO, MX, UA, NL, VN, JP, LT, RS, AU, KE, SK, IN, CL, CA, LI, SG, ID, NZ, LU, BZ, CO, TR, BR, SE, IS, FI, DZ, PT, DK, IL, MD, AT, SC]</td>\n",
              "    </tr>\n",
              "    <tr>\n",
              "      <th>as_number</th>\n",
              "      <td>[1249.0, 4766.0, 12989.0, 43578.0, 37692.0, 198605.0, 60068.0, nan, 22400.0, 54455.0, 53889.0, 43317.0, 38001.0, 30083.0, 3462.0, 59564.0, 36351.0, 9009.0, 61440.0, 29278.0, 34989.0, 45899.0, 16125.0, 63008.0, 207134.0, 395111.0, 198371.0, 45671.0, 7656.0, 201924.0, 33182.0, 16276.0, 133480.0, 199524.0, 136557.0, 51430.0, 45839.0, 7850.0, 49505.0, 53597.0, 36114.0, 37153.0, 50613.0, 51765.0, 327813.0, 55720.0, 204287.0, 11990.0, 29889.0, 29854.0, 19916.0, 46261.0, 42994.0, 43289.0, 62874.0, 3223.0, 44764.0]</td>\n",
              "    </tr>\n",
              "    <tr>\n",
              "      <th>schedule_name</th>\n",
              "      <td>[country-sensitive-at, country-sensitive-kr, citizenlab-global, alexa-global, country-sensitive-es, country-sensitive-za, country-sensitive-pl, country-sensitive-my, country-sensitive-ru, country-sensitive-cn, country-sensitive-tw, country-sensitive-hk, country-sensitive-pe, country-sensitive-hu, country-sensitive-mx, country-sensitive-ua, country-sensitive-vn, country-sensitive-jp, country-sensitive-in, country-sensitive-cl, country-sensitive-ca, country-sensitive-sg, country-sensitive-id, country-sensitive-ke, country-sensitive-co, country-sensitive-de, country-sensitive-tr, country-sensitive-br, country-sensitive-dz, country-sensitive-az, country-sensitive-md, country-sensitive-ng]</td>\n",
              "    </tr>\n",
              "    <tr>\n",
              "      <th>url</th>\n",
              "      <td>[http://kinox.to/, http://movie4k.to/, 4shared.com, news.bbc.co.uk, ngt.jinbo.net, kieu.or.kr, www.korea-publ.com, www.lineage.co.kr, www.buddy79.com, www.bukhanmall.net, www.asiantribune.com, www.yanori.co.kr, www.chaju.org, freedom.jinbo.net, vok.rep.kp, www.islamawareness.net, www.freeinternet.or.kr, play.google.com, gesomoon.com, www.dateinasia.com, english.yna.co.kr, www.jjangfile.net, naenara.com, www.aids.or.kr, cafe.daum.net, media.daum.net, www.equaline.or.kr, www.daum.net, eng.peoplepower21.org, omadam1.net, www.pullbbang.com, www.orangefile.com, www.onekorea.org, www.ccej.or.kr, www.knic.com.kp, nocensor.org, www.ddanzi.com, www.greenkorea.org, www.nicesms.co.kr, won.a.gg, www.nonghyup.com, www.ilbe.com, www.asianboygay.com, www.korean-books.com.kp, www.biomics.co.kr, www.geocities.com, www.todayhumor.co.kr, www.aindf.com, www.auction.co.kr, www.upschool.net, www.ahrchk.net, sfkuk.freeservers.com, www.88square.com, clparty.kr, pssp.org, www.nzeen.com, www.i-um.com, tvpot.media.daum.net, leftworkers.org, www.wegames.net, www.ifj-asia.org, naenara.com.kp, www.hani.co.kr, hypercortex.net, www.big.or.jp, www.chol.com, www.hellkorea.com, erozn.net, www.wevo.co.kr, data.donkeyhote.co.kr, www.cinewel.com, www.rights.or.kr, www.cherryasia.com, www.munjanara.co.kr, ppss.kr, www.dreamwiz.com, korelcfund.org.kp, www.ithaisex.com, dprk.1accesshost.com, tcafek.com, myhome.naver.com, betasia.com, 416family.org, www.dprkstudies.org, www.lxnetworks.co.kr, www.inochong.org, usacrime.or.kr, www.hotline.or.kr, cyworld.nate.com, thaicherry.com, minbyun.jinbo.net, anjali.uncovered.com, www.101sex888.com, hotasianbabes.com, www.gayasianxxx.com, tsthai.com, banyalba.com, koreanfriendfinder.com, mingkyaa.com, www.bangkokbangers.com, ...]</td>\n",
              "    </tr>\n",
              "    <tr>\n",
              "      <th>dns</th>\n",
              "      <td>[nan, false, -2, true]</td>\n",
              "    </tr>\n",
              "    <tr>\n",
              "      <th>dns_reason</th>\n",
              "      <td>[nan, sameip, no_control_resp, sameas, not_violate_threshold, no_control_as_group, normal_fail, noerror_no_answer, normal_fail,loopback, violate_threshold,no_response, violate_threshold, loopback, ip_in_other_regions,no_response, violate_threshold,normal_fail, reserved, no_response,loopback]</td>\n",
              "    </tr>\n",
              "    <tr>\n",
              "      <th>dns_all</th>\n",
              "      <td>[nan, false, -2, true]</td>\n",
              "    </tr>\n",
              "    <tr>\n",
              "      <th>dns_reason_all</th>\n",
              "      <td>[nan, no_control_resp, sameip, no_control_as_group, sameas, normal_fail, reserved, noerror_no_answer, not_violate_threshold, sameip,normal_fail,loopback, no_control_as_group,violate_threshold,no_response, no_control_as_group,violate_threshold, reserved,no_response, normal_fail,loopback, no_control_resp,loopback, sameip,loopback, ip_in_other_regions,no_response, no_control_as_group,violate_threshold,normal_fail, sameas,violate_threshold, violate_threshold,no_response, loopback, no_response,loopback]</td>\n",
              "    </tr>\n",
              "    <tr>\n",
              "      <th>http_status</th>\n",
              "      <td>[403.0, nan, 200.0, -1.0, 406.0, 401.0, 404.0, 500.0, 503.0, 400.0, 405.0, 521.0, 479.0, 429.0, 418.0, 409.0, 410.0, 504.0, 456.0, 544.0, 204.0, 451.0, 301.0, 523.0, 502.0, 412.0, 424.0, 530.0, 520.0, 999.0, 203.0, 408.0, 206.0, 0.0, 526.0, 508.0, 525.0, 477.0]</td>\n",
              "    </tr>\n",
              "    <tr>\n",
              "      <th>block</th>\n",
              "      <td>[False, nan, True]</td>\n",
              "    </tr>\n",
              "    <tr>\n",
              "      <th>body_len</th>\n",
              "      <td>[3094.0, 3098.0, nan, 8419.0, 0.0, 29282.0, 23591.0, 679791.0, 300.0, 26428.0, 568.0, 31137.0, 29161.0, 7778.0, 137756.0, 29335.0, 103977.0, 3091.0, 41235.0, 3137.0, 35862.0, 34648.0, 32814.0, 34754.0, 1558.0, 3105.0, 85163.0, 57552.0, 34331.0, 4951.0, 20300.0, 9777.0, 14393.0, 9306.0, 7472.0, 8507.0, 54067.0, 1304.0, 63855.0, 74727.0, 30576.0, 50388.0, 5949.0, 58000.0, 83710.0, 1408.0, 3107.0, 14876.0, 530.0, 34698.0, 26333.0, 153729.0, 21142.0, 45276.0, 48171.0, 34.0, 49681.0, 4587.0, 39451.0, 42072.0, 41647.0, 14600.0, 14599.0, 979.0, 1559.0, 37826.0, 117352.0, 44260.0, 30097.0, 2652.0, 3111.0, 5811.0, 10096.0, 38897.0, 18993.0, 10972.0, 16480.0, 34463.0, 11302.0, 42332.0, 13248.0, 3117.0, 38419.0, 40534.0, 57674.0, 334617.0, 162.0, 45887.0, 596.0, 40836.0, 40398.0, 42752.0, 189245.0, 437.0, 9965.0, 18599.0, 18561.0, 161766.0, 45234.0, 3141.0, ...]</td>\n",
              "    </tr>\n",
              "    <tr>\n",
              "      <th>http_reason</th>\n",
              "      <td>[{}, nan, HTTP body contains [http://warning.or.kr], HTTP body contains [\\\\u003cFRAME SRC='http://www.ifydnun.com/?dn=], HTTP body contains [\\u003ctitle\\u003eWeb Site Blocked\\u003c/title\\u003e], HTTP body contains [\\\\u003cTITLE\\\\u003eAccess Denied\\\\u003c/TITLE\\\\u003e], HTTP body contains [\\u003ctitle\\u003eAccess Denied\\u003c/title\\u003e], HTTP body contains [\\\\u003ch1\\\\u003eAccess To Website Blocked\\\\u003c/h1\\\\u003e], HTTP body contains [\\\\u003cimg src=\\\"\"//cacheimg.casino.com/images/www/forbidden/forbidden-logo.png], HTTP body contains [\\\\u003ctitle\\\\u003eSucuri WebSite Firewall - Access Denied\\\\u003c/title\\\\u003e], HTTP body contains [The page is blocked due to the decision of the authorities in your area.], HTTP body contains [http://zapret-info.gov.ru/], [], HTTP body contains [http://eais.rkn.gov.ru/], HTTP body contains [The page you have requested has been blocked], HTTP body contains [\\u003chtml\\u003e\\u003cbody\\u003e\\u003ch1\\u003e400 Bad request\\u003c/h1\\u003e], HTTP body contains [\\\\u003ciframe src=\\\"\"http://www.airtel.in/dot/], HTTP header field [Location] contains [http://195.175.254.2/], HTTP body contains [This site has been blocked in response to a unilateral order from a Turkish authority], HTTP body contains [arg = \\\"\"http://gracwarning.or.kr/]]</td>\n",
              "    </tr>\n",
              "    <tr>\n",
              "      <th>packet_updated</th>\n",
              "      <td>[nan, False, True]</td>\n",
              "    </tr>\n",
              "    <tr>\n",
              "      <th>packet_reason</th>\n",
              "      <td>[nan, Handshake conflict, ICMP unreachable, ICMP admin prohibition, Payload collision, Data after FIN, Data after RST]</td>\n",
              "    </tr>\n",
              "    <tr>\n",
              "      <th>censored_updated</th>\n",
              "      <td>[False, True]</td>\n",
              "    </tr>\n",
              "  </tbody>\n",
              "</table>\n",
              "</div>"
            ],
            "text/plain": [
              "                                                                                                                                                                                                                                                                                                                                                                                                                                                                                                                                                                                                                                                                                                                                                                                                                                                                                                                                                                                                                                                                                                                                                                                                                                                                                                                                                                                                                                                                                                                                                                                                                                                                                                                                                                                                                                                                                                                                                                                                                                                                                                                                                                                                                                                                                                                                                                                                                                                                                                                                                                                                                                                                                                                                                                                                                                                                                                                                                                                                                                                                                                                                                                                                                                                                                                                                                                                                                                                                                                                                                                                                                                                                                                                                                                                                                                                                                                                                                                                                                                                                                                                                                                                                                                                                                                                                                                                                                                                                                                                                                                                                 unique\n",
              "filename          [baseline-2018-09-01T000154.371069.json.bz2, baseline-2018-10-02T011527.678225.json.bz2, baseline-2018-09-01T002206.909253.json.bz2, baseline-2018-09-01T000211.982577.json.bz2, baseline-2018-09-01T012805.179303.json.bz2, baseline-2018-09-01T000348.154035.json.bz2, baseline-2018-09-29T122200.922828.json.bz2, baseline-2018-09-01T001914.221847.json.bz2, baseline-2018-09-01T002347.327314.json.bz2, baseline-2018-09-01T022556.188689.json.bz2, baseline-2018-09-01T012507.257001.json.bz2, baseline-2018-09-16T074206.498584.json.bz2, baseline-2018-09-29T015739.798070.json.bz2, baseline-2018-09-01T012755.940830.json.bz2, baseline-2018-09-01T014549.549549.json.bz2, baseline-2018-09-01T031201.944294.json.bz2, baseline-2018-09-01T031910.129586.json.bz2, baseline-2018-09-01T041723.359026.json.bz2, baseline-2018-09-18T112730.485175.json.bz2, baseline-2018-09-01T032809.041273.json.bz2, baseline-2018-09-01T043033.228301.json.bz2, baseline-2018-09-01T033020.601453.json.bz2, baseline-2018-09-29T183142.687279.json.bz2, baseline-2018-09-01T042033.228432.json.bz2, baseline-2018-09-01T055009.914886.json.bz2, baseline-2018-09-01T045208.307428.json.bz2, baseline-2018-09-01T064204.770879.json.bz2, baseline-2018-09-01T062346.951665.json.bz2, baseline-2018-09-25T085727.507107.json.bz2, baseline-2018-09-01T070700.369570.json.bz2, baseline-2018-09-01T080554.927843.json.bz2, baseline-2018-09-01T080609.035147.json.bz2, baseline-2018-09-01T084135.726037.json.bz2, baseline-2018-09-01T094301.914785.json.bz2, baseline-2018-09-01T100717.985693.json.bz2, baseline-2018-09-01T094813.042643.json.bz2, baseline-2018-09-01T084221.770008.json.bz2, baseline-2018-09-01T093527.657129.json.bz2, baseline-2018-09-01T104617.083913.json.bz2, baseline-2018-09-01T115336.125062.json.bz2, baseline-2018-09-01T110413.611776.json.bz2, baseline-2018-09-01T112734.851861.json.bz2, baseline-2018-09-01T122429.615098.json.bz2, baseline-2018-09-01T130937.370936.json.bz2, baseline-2018-09-01T132549.694038.json.bz2, baseline-2018-09-01T142921.828216.json.bz2, baseline-2018-09-01T133024.580958.json.bz2, baseline-2018-09-01T135130.512703.json.bz2, baseline-2018-09-01T153242.171205.json.bz2, baseline-2018-09-01T155959.708269.json.bz2, baseline-2018-09-01T145819.006208.json.bz2, baseline-2018-09-01T161700.324482.json.bz2, baseline-2018-09-01T152133.399919.json.bz2, baseline-2018-09-01T162506.050253.json.bz2, baseline-2018-09-01T164325.603238.json.bz2, baseline-2018-09-01T155840.772808.json.bz2, baseline-2018-09-01T170158.251843.json.bz2, baseline-2018-09-01T155931.769552.json.bz2, baseline-2018-09-24T214632.291619.json.bz2, baseline-2018-09-01T170123.077746.json.bz2, baseline-2018-09-16T084328.850857.json.bz2, baseline-2018-09-01T175721.886001.json.bz2, baseline-2018-09-01T172643.354094.json.bz2, baseline-2018-09-01T183403.564449.json.bz2, baseline-2018-09-20T003743.820612.json.bz2, baseline-2018-09-29T221602.443699.json.bz2, baseline-2018-09-29T210024.601853.json.bz2, baseline-2018-09-01T185540.188463.json.bz2, baseline-2018-09-01T173925.731773.json.bz2, baseline-2018-09-01T200019.659990.json.bz2, baseline-2018-09-01T224830.438845.json.bz2, baseline-2018-09-01T215218.852063.json.bz2, baseline-2018-09-01T223306.519698.json.bz2, baseline-2018-09-01T233135.165997.json.bz2, baseline-2018-09-01T230625.089331.json.bz2, baseline-2018-09-02T001809.925976.json.bz2, baseline-2018-09-02T013758.958945.json.bz2, baseline-2018-09-02T002126.252146.json.bz2, baseline-2018-09-02T002131.177627.json.bz2, baseline-2018-09-02T013818.909647.json.bz2, baseline-2018-09-02T002610.042334.json.bz2, baseline-2018-09-17T144653.568304.json.bz2, baseline-2018-09-02T010613.888775.json.bz2, baseline-2018-09-02T020907.268134.json.bz2, baseline-2018-09-02T024643.458483.json.bz2, baseline-2018-09-21T170739.291503.json.bz2, baseline-2018-09-02T023737.334076.json.bz2, baseline-2018-09-02T032356.148063.json.bz2, baseline-2018-09-02T022742.763006.json.bz2, baseline-2018-09-02T030122.647772.json.bz2, baseline-2018-09-02T041404.389483.json.bz2, baseline-2018-09-02T032809.990945.json.bz2, baseline-2018-09-09T061743.632577.json.bz2, baseline-2018-09-02T042833.963892.json.bz2, baseline-2018-09-02T080340.680588.json.bz2, baseline-2018-09-02T064008.565145.json.bz2, baseline-2018-09-02T070533.565298.json.bz2, baseline-2018-09-02T075844.852194.json.bz2, baseline-2018-09-02T074751.299903.json.bz2, baseline-2018-09-02T080457.312980.json.bz2, ...]\n",
              "server_t          [2018-09-01T00:01:54.354Z, 2018-09-01T00:02:11.575Z, 2018-09-01T00:03:48.075Z, 2018-09-01T00:19:14.000Z, 2018-09-01T00:23:47.072Z, 2018-09-01T01:25:07.161Z, 2018-09-01T01:27:55.773Z, 2018-09-01T01:45:49.431Z, 2018-09-01T02:18:29.014Z, 2018-09-01T03:19:10.096Z, 2018-09-01T03:28:08.772Z, 2018-09-01T03:30:20.522Z, 2018-09-01T04:20:32.939Z, 2018-09-01T04:52:08.236Z, 2018-09-01T06:23:46.706Z, 2018-09-01T07:07:00.270Z, 2018-09-01T08:06:08.755Z, 2018-09-01T08:41:35.582Z, 2018-09-01T08:42:21.548Z, 2018-09-01T09:35:27.573Z, 2018-09-01T10:46:16.796Z, 2018-09-01T11:04:13.418Z, 2018-09-01T11:27:34.765Z, 2018-09-01T13:09:37.099Z, 2018-09-01T13:25:49.589Z, 2018-09-01T13:30:24.503Z, 2018-09-01T13:51:30.306Z, 2018-09-01T14:35:04.415Z, 2018-09-01T14:58:18.753Z, 2018-09-01T15:21:33.097Z, 2018-09-01T15:58:40.568Z, 2018-09-01T17:01:23.023Z, 2018-09-01T17:26:43.237Z, 2018-09-01T17:39:25.665Z, 2018-09-01T20:00:19.464Z, 2018-09-01T21:52:18.712Z, 2018-09-01T22:33:06.458Z, 2018-09-01T23:06:24.801Z, 2018-09-02T00:18:09.641Z, 2018-09-02T00:21:26.167Z, 2018-09-02T00:21:31.161Z, 2018-09-02T00:26:09.751Z, 2018-09-02T01:06:13.409Z, 2018-09-02T01:29:04.646Z, 2018-09-02T01:39:08.387Z, 2018-09-02T02:27:42.683Z, 2018-09-02T03:01:22.544Z, 2018-09-02T03:19:03.845Z, 2018-09-02T03:28:09.926Z, 2018-09-02T06:40:08.311Z, 2018-09-02T07:05:33.431Z, 2018-09-02T07:47:50.994Z, 2018-09-02T08:04:57.225Z, 2018-09-02T08:22:59.165Z, 2018-09-02T08:55:42.378Z, 2018-09-02T10:11:20.061Z, 2018-09-02T10:24:36.499Z, 2018-09-02T11:25:09.648Z, 2018-09-02T15:56:55.552Z, 2018-09-02T15:59:20.492Z, 2018-09-02T16:21:36.532Z, 2018-09-02T17:08:44.623Z, 2018-09-02T18:00:52.223Z, 2018-09-02T18:03:52.057Z, 2018-09-02T19:19:25.742Z, 2018-09-02T19:28:08.019Z, 2018-09-02T20:42:58.095Z, 2018-09-02T21:41:03.342Z, 2018-09-02T21:50:38.662Z, 2018-09-02T23:31:14.142Z, 2018-09-03T00:01:16.941Z, 2018-09-03T00:01:53.313Z, 2018-09-03T00:01:57.575Z, 2018-09-03T00:09:13.896Z, 2018-09-03T00:31:18.716Z, 2018-09-03T00:36:23.385Z, 2018-09-03T01:44:16.802Z, 2018-09-03T02:18:42.255Z, 2018-09-03T02:20:22.087Z, 2018-09-03T02:46:05.815Z, 2018-09-03T02:49:16.872Z, 2018-09-03T02:54:42.369Z, 2018-09-03T02:57:49.946Z, 2018-09-03T03:16:34.547Z, 2018-09-03T03:43:44.474Z, 2018-09-03T04:25:31.994Z, 2018-09-03T06:01:21.899Z, 2018-09-03T07:23:34.344Z, 2018-09-03T07:35:18.058Z, 2018-09-03T08:50:26.472Z, 2018-09-03T11:54:52.867Z, 2018-09-03T12:03:09.827Z, 2018-09-03T12:14:29.018Z, 2018-09-03T12:28:34.971Z, 2018-09-03T14:05:58.537Z, 2018-09-03T14:46:10.510Z, 2018-09-03T15:30:24.566Z, 2018-09-03T16:05:50.862Z, 2018-09-03T16:18:36.488Z, 2018-09-03T19:03:06.150Z, ...]                                                                                                                                                                                                                                                                                                                                                                                                                                                                                                                                                                                                                                                                                                                                                                                                                                                                                                                                                                                                                                                                                                                                                                                                                                                                                                                                                                                                                                                                                                                                                                                                                                                                                                                                                                                                                                                                        \n",
              "country           [US, KR, ES, ZA, CZ, PL, MY, RU, CN, TW, BG, HK, RO, PE, HU, NO, MX, UA, NL, VN, JP, LT, RS, AU, KE, SK, IN, CL, CA, LI, SG, ID, NZ, LU, BZ, CO, TR, BR, SE, IS, FI, DZ, PT, DK, IL, MD, AT, SC]                                                                                                                                                                                                                                                                                                                                                                                                                                                                                                                                                                                                                                                                                                                                                                                                                                                                                                                                                                                                                                                                                                                                                                                                                                                                                                                                                                                                                                                                                                                                                                                                                                                                                                                                                                                                                                                                                                                                                                                                                                                                                                                                                                                                                                                                                                                                                                                                                                                                                                                                                                                                                                                                                                                                                                                                                                                                                                                                                                                                                                                                                                                                                                                                                                                                                                                                                                                                                                                                                                                                                                                                                                                                                                                                                                                                                                                                                                                                                                                                                                                                                                                                                                                                                                                                                                                                                                                     \n",
              "as_number         [1249.0, 4766.0, 12989.0, 43578.0, 37692.0, 198605.0, 60068.0, nan, 22400.0, 54455.0, 53889.0, 43317.0, 38001.0, 30083.0, 3462.0, 59564.0, 36351.0, 9009.0, 61440.0, 29278.0, 34989.0, 45899.0, 16125.0, 63008.0, 207134.0, 395111.0, 198371.0, 45671.0, 7656.0, 201924.0, 33182.0, 16276.0, 133480.0, 199524.0, 136557.0, 51430.0, 45839.0, 7850.0, 49505.0, 53597.0, 36114.0, 37153.0, 50613.0, 51765.0, 327813.0, 55720.0, 204287.0, 11990.0, 29889.0, 29854.0, 19916.0, 46261.0, 42994.0, 43289.0, 62874.0, 3223.0, 44764.0]                                                                                                                                                                                                                                                                                                                                                                                                                                                                                                                                                                                                                                                                                                                                                                                                                                                                                                                                                                                                                                                                                                                                                                                                                                                                                                                                                                                                                                                                                                                                                                                                                                                                                                                                                                                                                                                                                                                                                                                                                                                                                                                                                                                                                                                                                                                                                                                                                                                                                                                                                                                                                                                                                                                                                                                                                                                                                                                                                                                                                                                                                                                                                                                                                                                                                                                                                                                                                                                                                                                                                                                                                                                                                                                                                                                                                                                                                                                                                                                                                                                     \n",
              "schedule_name     [country-sensitive-at, country-sensitive-kr, citizenlab-global, alexa-global, country-sensitive-es, country-sensitive-za, country-sensitive-pl, country-sensitive-my, country-sensitive-ru, country-sensitive-cn, country-sensitive-tw, country-sensitive-hk, country-sensitive-pe, country-sensitive-hu, country-sensitive-mx, country-sensitive-ua, country-sensitive-vn, country-sensitive-jp, country-sensitive-in, country-sensitive-cl, country-sensitive-ca, country-sensitive-sg, country-sensitive-id, country-sensitive-ke, country-sensitive-co, country-sensitive-de, country-sensitive-tr, country-sensitive-br, country-sensitive-dz, country-sensitive-az, country-sensitive-md, country-sensitive-ng]                                                                                                                                                                                                                                                                                                                                                                                                                                                                                                                                                                                                                                                                                                                                                                                                                                                                                                                                                                                                                                                                                                                                                                                                                                                                                                                                                                                                                                                                                                                                                                                                                                                                                                                                                                                                                                                                                                                                                                                                                                                                                                                                                                                                                                                                                                                                                                                                                                                                                                                                                                                                                                                                                                                                                                                                                                                                                                                                                                                                                                                                                                                                                                                                                                                                                                                                                                                                                                                                                                                                                                                                                                                                                                                                                                                                                                                                \n",
              "url               [http://kinox.to/, http://movie4k.to/, 4shared.com, news.bbc.co.uk, ngt.jinbo.net, kieu.or.kr, www.korea-publ.com, www.lineage.co.kr, www.buddy79.com, www.bukhanmall.net, www.asiantribune.com, www.yanori.co.kr, www.chaju.org, freedom.jinbo.net, vok.rep.kp, www.islamawareness.net, www.freeinternet.or.kr, play.google.com, gesomoon.com, www.dateinasia.com, english.yna.co.kr, www.jjangfile.net, naenara.com, www.aids.or.kr, cafe.daum.net, media.daum.net, www.equaline.or.kr, www.daum.net, eng.peoplepower21.org, omadam1.net, www.pullbbang.com, www.orangefile.com, www.onekorea.org, www.ccej.or.kr, www.knic.com.kp, nocensor.org, www.ddanzi.com, www.greenkorea.org, www.nicesms.co.kr, won.a.gg, www.nonghyup.com, www.ilbe.com, www.asianboygay.com, www.korean-books.com.kp, www.biomics.co.kr, www.geocities.com, www.todayhumor.co.kr, www.aindf.com, www.auction.co.kr, www.upschool.net, www.ahrchk.net, sfkuk.freeservers.com, www.88square.com, clparty.kr, pssp.org, www.nzeen.com, www.i-um.com, tvpot.media.daum.net, leftworkers.org, www.wegames.net, www.ifj-asia.org, naenara.com.kp, www.hani.co.kr, hypercortex.net, www.big.or.jp, www.chol.com, www.hellkorea.com, erozn.net, www.wevo.co.kr, data.donkeyhote.co.kr, www.cinewel.com, www.rights.or.kr, www.cherryasia.com, www.munjanara.co.kr, ppss.kr, www.dreamwiz.com, korelcfund.org.kp, www.ithaisex.com, dprk.1accesshost.com, tcafek.com, myhome.naver.com, betasia.com, 416family.org, www.dprkstudies.org, www.lxnetworks.co.kr, www.inochong.org, usacrime.or.kr, www.hotline.or.kr, cyworld.nate.com, thaicherry.com, minbyun.jinbo.net, anjali.uncovered.com, www.101sex888.com, hotasianbabes.com, www.gayasianxxx.com, tsthai.com, banyalba.com, koreanfriendfinder.com, mingkyaa.com, www.bangkokbangers.com, ...]                                                                                                                                                                                                                                                                                                                                                                                                                                                                                                                                                                                                                                                                                                                                                                                                                                                                                                                                                                                                                                                                                                                                                                                                                                                                                                                                                                                                                                                                                                                                                                                                                                                                                                                                                                                                                                                                                                                                                                                                                                                                                                                                                                                                                                                                                                                                                                                                                                                                                                                                                                                                                                                                                                                                                           \n",
              "dns               [nan, false, -2, true]                                                                                                                                                                                                                                                                                                                                                                                                                                                                                                                                                                                                                                                                                                                                                                                                                                                                                                                                                                                                                                                                                                                                                                                                                                                                                                                                                                                                                                                                                                                                                                                                                                                                                                                                                                                                                                                                                                                                                                                                                                                                                                                                                                                                                                                                                                                                                                                                                                                                                                                                                                                                                                                                                                                                                                                                                                                                                                                                                                                                                                                                                                                                                                                                                                                                                                                                                                                                                                                                                                                                                                                                                                                                                                                                                                                                                                                                                                                                                                                                                                                                                                                                                                                                                                                                                                                                                                                                                                                                                                                                                               \n",
              "dns_reason        [nan, sameip, no_control_resp, sameas, not_violate_threshold, no_control_as_group, normal_fail, noerror_no_answer, normal_fail,loopback, violate_threshold,no_response, violate_threshold, loopback, ip_in_other_regions,no_response, violate_threshold,normal_fail, reserved, no_response,loopback]                                                                                                                                                                                                                                                                                                                                                                                                                                                                                                                                                                                                                                                                                                                                                                                                                                                                                                                                                                                                                                                                                                                                                                                                                                                                                                                                                                                                                                                                                                                                                                                                                                                                                                                                                                                                                                                                                                                                                                                                                                                                                                                                                                                                                                                                                                                                                                                                                                                                                                                                                                                                                                                                                                                                                                                                                                                                                                                                                                                                                                                                                                                                                                                                                                                                                                                                                                                                                                                                                                                                                                                                                                                                                                                                                                                                                                                                                                                                                                                                                                                                                                                                                                                                                                                                                 \n",
              "dns_all           [nan, false, -2, true]                                                                                                                                                                                                                                                                                                                                                                                                                                                                                                                                                                                                                                                                                                                                                                                                                                                                                                                                                                                                                                                                                                                                                                                                                                                                                                                                                                                                                                                                                                                                                                                                                                                                                                                                                                                                                                                                                                                                                                                                                                                                                                                                                                                                                                                                                                                                                                                                                                                                                                                                                                                                                                                                                                                                                                                                                                                                                                                                                                                                                                                                                                                                                                                                                                                                                                                                                                                                                                                                                                                                                                                                                                                                                                                                                                                                                                                                                                                                                                                                                                                                                                                                                                                                                                                                                                                                                                                                                                                                                                                                                               \n",
              "dns_reason_all    [nan, no_control_resp, sameip, no_control_as_group, sameas, normal_fail, reserved, noerror_no_answer, not_violate_threshold, sameip,normal_fail,loopback, no_control_as_group,violate_threshold,no_response, no_control_as_group,violate_threshold, reserved,no_response, normal_fail,loopback, no_control_resp,loopback, sameip,loopback, ip_in_other_regions,no_response, no_control_as_group,violate_threshold,normal_fail, sameas,violate_threshold, violate_threshold,no_response, loopback, no_response,loopback]                                                                                                                                                                                                                                                                                                                                                                                                                                                                                                                                                                                                                                                                                                                                                                                                                                                                                                                                                                                                                                                                                                                                                                                                                                                                                                                                                                                                                                                                                                                                                                                                                                                                                                                                                                                                                                                                                                                                                                                                                                                                                                                                                                                                                                                                                                                                                                                                                                                                                                                                                                                                                                                                                                                                                                                                                                                                                                                                                                                                                                                                                                                                                                                                                                                                                                                                                                                                                                                                                                                                                                                                                                                                                                                                                                                                                                                                                                                                                                                                                                                              \n",
              "http_status       [403.0, nan, 200.0, -1.0, 406.0, 401.0, 404.0, 500.0, 503.0, 400.0, 405.0, 521.0, 479.0, 429.0, 418.0, 409.0, 410.0, 504.0, 456.0, 544.0, 204.0, 451.0, 301.0, 523.0, 502.0, 412.0, 424.0, 530.0, 520.0, 999.0, 203.0, 408.0, 206.0, 0.0, 526.0, 508.0, 525.0, 477.0]                                                                                                                                                                                                                                                                                                                                                                                                                                                                                                                                                                                                                                                                                                                                                                                                                                                                                                                                                                                                                                                                                                                                                                                                                                                                                                                                                                                                                                                                                                                                                                                                                                                                                                                                                                                                                                                                                                                                                                                                                                                                                                                                                                                                                                                                                                                                                                                                                                                                                                                                                                                                                                                                                                                                                                                                                                                                                                                                                                                                                                                                                                                                                                                                                                                                                                                                                                                                                                                                                                                                                                                                                                                                                                                                                                                                                                                                                                                                                                                                                                                                                                                                                                                                                                                                                                                \n",
              "block             [False, nan, True]                                                                                                                                                                                                                                                                                                                                                                                                                                                                                                                                                                                                                                                                                                                                                                                                                                                                                                                                                                                                                                                                                                                                                                                                                                                                                                                                                                                                                                                                                                                                                                                                                                                                                                                                                                                                                                                                                                                                                                                                                                                                                                                                                                                                                                                                                                                                                                                                                                                                                                                                                                                                                                                                                                                                                                                                                                                                                                                                                                                                                                                                                                                                                                                                                                                                                                                                                                                                                                                                                                                                                                                                                                                                                                                                                                                                                                                                                                                                                                                                                                                                                                                                                                                                                                                                                                                                                                                                                                                                                                                                                                   \n",
              "body_len          [3094.0, 3098.0, nan, 8419.0, 0.0, 29282.0, 23591.0, 679791.0, 300.0, 26428.0, 568.0, 31137.0, 29161.0, 7778.0, 137756.0, 29335.0, 103977.0, 3091.0, 41235.0, 3137.0, 35862.0, 34648.0, 32814.0, 34754.0, 1558.0, 3105.0, 85163.0, 57552.0, 34331.0, 4951.0, 20300.0, 9777.0, 14393.0, 9306.0, 7472.0, 8507.0, 54067.0, 1304.0, 63855.0, 74727.0, 30576.0, 50388.0, 5949.0, 58000.0, 83710.0, 1408.0, 3107.0, 14876.0, 530.0, 34698.0, 26333.0, 153729.0, 21142.0, 45276.0, 48171.0, 34.0, 49681.0, 4587.0, 39451.0, 42072.0, 41647.0, 14600.0, 14599.0, 979.0, 1559.0, 37826.0, 117352.0, 44260.0, 30097.0, 2652.0, 3111.0, 5811.0, 10096.0, 38897.0, 18993.0, 10972.0, 16480.0, 34463.0, 11302.0, 42332.0, 13248.0, 3117.0, 38419.0, 40534.0, 57674.0, 334617.0, 162.0, 45887.0, 596.0, 40836.0, 40398.0, 42752.0, 189245.0, 437.0, 9965.0, 18599.0, 18561.0, 161766.0, 45234.0, 3141.0, ...]                                                                                                                                                                                                                                                                                                                                                                                                                                                                                                                                                                                                                                                                                                                                                                                                                                                                                                                                                                                                                                                                                                                                                                                                                                                                                                                                                                                                                                                                                                                                                                                                                                                                                                                                                                                                                                                                                                                                                                                                                                                                                                                                                                                                                                                                                                                                                                                                                                                                                                                                                                                                                                                                                                                                                                                                                                                                                                                                                                                                                                                                                                                                                                                                                                                                                                                                                                                                                                                                                                                                                                                                                                                                                      \n",
              "http_reason       [{}, nan, HTTP body contains [http://warning.or.kr], HTTP body contains [\\\\u003cFRAME SRC='http://www.ifydnun.com/?dn=], HTTP body contains [\\u003ctitle\\u003eWeb Site Blocked\\u003c/title\\u003e], HTTP body contains [\\\\u003cTITLE\\\\u003eAccess Denied\\\\u003c/TITLE\\\\u003e], HTTP body contains [\\u003ctitle\\u003eAccess Denied\\u003c/title\\u003e], HTTP body contains [\\\\u003ch1\\\\u003eAccess To Website Blocked\\\\u003c/h1\\\\u003e], HTTP body contains [\\\\u003cimg src=\\\"\"//cacheimg.casino.com/images/www/forbidden/forbidden-logo.png], HTTP body contains [\\\\u003ctitle\\\\u003eSucuri WebSite Firewall - Access Denied\\\\u003c/title\\\\u003e], HTTP body contains [The page is blocked due to the decision of the authorities in your area.], HTTP body contains [http://zapret-info.gov.ru/], [], HTTP body contains [http://eais.rkn.gov.ru/], HTTP body contains [The page you have requested has been blocked], HTTP body contains [\\u003chtml\\u003e\\u003cbody\\u003e\\u003ch1\\u003e400 Bad request\\u003c/h1\\u003e], HTTP body contains [\\\\u003ciframe src=\\\"\"http://www.airtel.in/dot/], HTTP header field [Location] contains [http://195.175.254.2/], HTTP body contains [This site has been blocked in response to a unilateral order from a Turkish authority], HTTP body contains [arg = \\\"\"http://gracwarning.or.kr/]]                                                                                                                                                                                                                                                                                                                                                                                                                                                                                                                                                                                                                                                                                                                                                                                                                                                                                                                                                                                                                                                                                                                                                                                                                                                                                                                                                                                                                                                                                                                                                                                                                                                                                                                                                                                                                                                                                                                                                                                                                                                                                                                                                                                                                                                                                                                                                                                                                                                                                                                                                                                                                                                                                                                                                                                                                                                                                                                                                                                                                                                                                                                                                                                                                                                    \n",
              "packet_updated    [nan, False, True]                                                                                                                                                                                                                                                                                                                                                                                                                                                                                                                                                                                                                                                                                                                                                                                                                                                                                                                                                                                                                                                                                                                                                                                                                                                                                                                                                                                                                                                                                                                                                                                                                                                                                                                                                                                                                                                                                                                                                                                                                                                                                                                                                                                                                                                                                                                                                                                                                                                                                                                                                                                                                                                                                                                                                                                                                                                                                                                                                                                                                                                                                                                                                                                                                                                                                                                                                                                                                                                                                                                                                                                                                                                                                                                                                                                                                                                                                                                                                                                                                                                                                                                                                                                                                                                                                                                                                                                                                                                                                                                                                                   \n",
              "packet_reason     [nan, Handshake conflict, ICMP unreachable, ICMP admin prohibition, Payload collision, Data after FIN, Data after RST]                                                                                                                                                                                                                                                                                                                                                                                                                                                                                                                                                                                                                                                                                                                                                                                                                                                                                                                                                                                                                                                                                                                                                                                                                                                                                                                                                                                                                                                                                                                                                                                                                                                                                                                                                                                                                                                                                                                                                                                                                                                                                                                                                                                                                                                                                                                                                                                                                                                                                                                                                                                                                                                                                                                                                                                                                                                                                                                                                                                                                                                                                                                                                                                                                                                                                                                                                                                                                                                                                                                                                                                                                                                                                                                                                                                                                                                                                                                                                                                                                                                                                                                                                                                                                                                                                                                                                                                                                                                               \n",
              "censored_updated  [False, True]                                                                                                                                                                                                                                                                                                                                                                                                                                                                                                                                                                                                                                                                                                                                                                                                                                                                                                                                                                                                                                                                                                                                                                                                                                                                                                                                                                                                                                                                                                                                                                                                                                                                                                                                                                                                                                                                                                                                                                                                                                                                                                                                                                                                                                                                                                                                                                                                                                                                                                                                                                                                                                                                                                                                                                                                                                                                                                                                                                                                                                                                                                                                                                                                                                                                                                                                                                                                                                                                                                                                                                                                                                                                                                                                                                                                                                                                                                                                                                                                                                                                                                                                                                                                                                                                                                                                                                                                                                                                                                                                                                        "
            ]
          },
          "metadata": {
            "tags": []
          },
          "execution_count": 7
        }
      ]
    },
    {
      "cell_type": "code",
      "metadata": {
        "id": "nlUDqvIoDsAo",
        "colab": {
          "base_uri": "https://localhost:8080/",
          "height": 397
        },
        "outputId": "1528a00e-b0f2-44d9-b4ad-a6eec5ce710c"
      },
      "source": [
        "as_mappings = {}\n",
        "\n",
        "data = urllib.request.urlopen(\"https://raw.githubusercontent.com/terose73/ICLab/main/as_mappings.txt?token=AIGKCL6YS7XXVB7SUXQI74C7W7MAU\") \n",
        "\n",
        "for line in data: # files are iterable\n",
        "    line = line.decode('utf-8').split(',')[0]\n",
        "    as_num, name = line.split(' ', 1)\n",
        "    as_mappings[as_num] = name.strip()\n",
        "\n",
        "def find_mapping(x):\n",
        "  res = as_mappings.get(x.split('.')[0])\n",
        "  if not res:\n",
        "    return np.nan\n",
        "  return res"
      ],
      "execution_count": 8,
      "outputs": [
        {
          "output_type": "error",
          "ename": "HTTPError",
          "evalue": "ignored",
          "traceback": [
            "\u001b[0;31m---------------------------------------------------------------------------\u001b[0m",
            "\u001b[0;31mHTTPError\u001b[0m                                 Traceback (most recent call last)",
            "\u001b[0;32m<ipython-input-8-3d64285468e1>\u001b[0m in \u001b[0;36m<module>\u001b[0;34m()\u001b[0m\n\u001b[1;32m      1\u001b[0m \u001b[0mas_mappings\u001b[0m \u001b[0;34m=\u001b[0m \u001b[0;34m{\u001b[0m\u001b[0;34m}\u001b[0m\u001b[0;34m\u001b[0m\u001b[0;34m\u001b[0m\u001b[0m\n\u001b[1;32m      2\u001b[0m \u001b[0;34m\u001b[0m\u001b[0m\n\u001b[0;32m----> 3\u001b[0;31m \u001b[0mdata\u001b[0m \u001b[0;34m=\u001b[0m \u001b[0murllib\u001b[0m\u001b[0;34m.\u001b[0m\u001b[0mrequest\u001b[0m\u001b[0;34m.\u001b[0m\u001b[0murlopen\u001b[0m\u001b[0;34m(\u001b[0m\u001b[0;34m\"https://raw.githubusercontent.com/terose73/ICLab/main/as_mappings.txt?token=AIGKCL6YS7XXVB7SUXQI74C7W7MAU\"\u001b[0m\u001b[0;34m)\u001b[0m\u001b[0;34m\u001b[0m\u001b[0;34m\u001b[0m\u001b[0m\n\u001b[0m\u001b[1;32m      4\u001b[0m \u001b[0;34m\u001b[0m\u001b[0m\n\u001b[1;32m      5\u001b[0m \u001b[0;32mfor\u001b[0m \u001b[0mline\u001b[0m \u001b[0;32min\u001b[0m \u001b[0mdata\u001b[0m\u001b[0;34m:\u001b[0m \u001b[0;31m# files are iterable\u001b[0m\u001b[0;34m\u001b[0m\u001b[0;34m\u001b[0m\u001b[0m\n",
            "\u001b[0;32m/usr/lib/python3.6/urllib/request.py\u001b[0m in \u001b[0;36murlopen\u001b[0;34m(url, data, timeout, cafile, capath, cadefault, context)\u001b[0m\n\u001b[1;32m    221\u001b[0m     \u001b[0;32melse\u001b[0m\u001b[0;34m:\u001b[0m\u001b[0;34m\u001b[0m\u001b[0;34m\u001b[0m\u001b[0m\n\u001b[1;32m    222\u001b[0m         \u001b[0mopener\u001b[0m \u001b[0;34m=\u001b[0m \u001b[0m_opener\u001b[0m\u001b[0;34m\u001b[0m\u001b[0;34m\u001b[0m\u001b[0m\n\u001b[0;32m--> 223\u001b[0;31m     \u001b[0;32mreturn\u001b[0m \u001b[0mopener\u001b[0m\u001b[0;34m.\u001b[0m\u001b[0mopen\u001b[0m\u001b[0;34m(\u001b[0m\u001b[0murl\u001b[0m\u001b[0;34m,\u001b[0m \u001b[0mdata\u001b[0m\u001b[0;34m,\u001b[0m \u001b[0mtimeout\u001b[0m\u001b[0;34m)\u001b[0m\u001b[0;34m\u001b[0m\u001b[0;34m\u001b[0m\u001b[0m\n\u001b[0m\u001b[1;32m    224\u001b[0m \u001b[0;34m\u001b[0m\u001b[0m\n\u001b[1;32m    225\u001b[0m \u001b[0;32mdef\u001b[0m \u001b[0minstall_opener\u001b[0m\u001b[0;34m(\u001b[0m\u001b[0mopener\u001b[0m\u001b[0;34m)\u001b[0m\u001b[0;34m:\u001b[0m\u001b[0;34m\u001b[0m\u001b[0;34m\u001b[0m\u001b[0m\n",
            "\u001b[0;32m/usr/lib/python3.6/urllib/request.py\u001b[0m in \u001b[0;36mopen\u001b[0;34m(self, fullurl, data, timeout)\u001b[0m\n\u001b[1;32m    530\u001b[0m         \u001b[0;32mfor\u001b[0m \u001b[0mprocessor\u001b[0m \u001b[0;32min\u001b[0m \u001b[0mself\u001b[0m\u001b[0;34m.\u001b[0m\u001b[0mprocess_response\u001b[0m\u001b[0;34m.\u001b[0m\u001b[0mget\u001b[0m\u001b[0;34m(\u001b[0m\u001b[0mprotocol\u001b[0m\u001b[0;34m,\u001b[0m \u001b[0;34m[\u001b[0m\u001b[0;34m]\u001b[0m\u001b[0;34m)\u001b[0m\u001b[0;34m:\u001b[0m\u001b[0;34m\u001b[0m\u001b[0;34m\u001b[0m\u001b[0m\n\u001b[1;32m    531\u001b[0m             \u001b[0mmeth\u001b[0m \u001b[0;34m=\u001b[0m \u001b[0mgetattr\u001b[0m\u001b[0;34m(\u001b[0m\u001b[0mprocessor\u001b[0m\u001b[0;34m,\u001b[0m \u001b[0mmeth_name\u001b[0m\u001b[0;34m)\u001b[0m\u001b[0;34m\u001b[0m\u001b[0;34m\u001b[0m\u001b[0m\n\u001b[0;32m--> 532\u001b[0;31m             \u001b[0mresponse\u001b[0m \u001b[0;34m=\u001b[0m \u001b[0mmeth\u001b[0m\u001b[0;34m(\u001b[0m\u001b[0mreq\u001b[0m\u001b[0;34m,\u001b[0m \u001b[0mresponse\u001b[0m\u001b[0;34m)\u001b[0m\u001b[0;34m\u001b[0m\u001b[0;34m\u001b[0m\u001b[0m\n\u001b[0m\u001b[1;32m    533\u001b[0m \u001b[0;34m\u001b[0m\u001b[0m\n\u001b[1;32m    534\u001b[0m         \u001b[0;32mreturn\u001b[0m \u001b[0mresponse\u001b[0m\u001b[0;34m\u001b[0m\u001b[0;34m\u001b[0m\u001b[0m\n",
            "\u001b[0;32m/usr/lib/python3.6/urllib/request.py\u001b[0m in \u001b[0;36mhttp_response\u001b[0;34m(self, request, response)\u001b[0m\n\u001b[1;32m    640\u001b[0m         \u001b[0;32mif\u001b[0m \u001b[0;32mnot\u001b[0m \u001b[0;34m(\u001b[0m\u001b[0;36m200\u001b[0m \u001b[0;34m<=\u001b[0m \u001b[0mcode\u001b[0m \u001b[0;34m<\u001b[0m \u001b[0;36m300\u001b[0m\u001b[0;34m)\u001b[0m\u001b[0;34m:\u001b[0m\u001b[0;34m\u001b[0m\u001b[0;34m\u001b[0m\u001b[0m\n\u001b[1;32m    641\u001b[0m             response = self.parent.error(\n\u001b[0;32m--> 642\u001b[0;31m                 'http', request, response, code, msg, hdrs)\n\u001b[0m\u001b[1;32m    643\u001b[0m \u001b[0;34m\u001b[0m\u001b[0m\n\u001b[1;32m    644\u001b[0m         \u001b[0;32mreturn\u001b[0m \u001b[0mresponse\u001b[0m\u001b[0;34m\u001b[0m\u001b[0;34m\u001b[0m\u001b[0m\n",
            "\u001b[0;32m/usr/lib/python3.6/urllib/request.py\u001b[0m in \u001b[0;36merror\u001b[0;34m(self, proto, *args)\u001b[0m\n\u001b[1;32m    568\u001b[0m         \u001b[0;32mif\u001b[0m \u001b[0mhttp_err\u001b[0m\u001b[0;34m:\u001b[0m\u001b[0;34m\u001b[0m\u001b[0;34m\u001b[0m\u001b[0m\n\u001b[1;32m    569\u001b[0m             \u001b[0margs\u001b[0m \u001b[0;34m=\u001b[0m \u001b[0;34m(\u001b[0m\u001b[0mdict\u001b[0m\u001b[0;34m,\u001b[0m \u001b[0;34m'default'\u001b[0m\u001b[0;34m,\u001b[0m \u001b[0;34m'http_error_default'\u001b[0m\u001b[0;34m)\u001b[0m \u001b[0;34m+\u001b[0m \u001b[0morig_args\u001b[0m\u001b[0;34m\u001b[0m\u001b[0;34m\u001b[0m\u001b[0m\n\u001b[0;32m--> 570\u001b[0;31m             \u001b[0;32mreturn\u001b[0m \u001b[0mself\u001b[0m\u001b[0;34m.\u001b[0m\u001b[0m_call_chain\u001b[0m\u001b[0;34m(\u001b[0m\u001b[0;34m*\u001b[0m\u001b[0margs\u001b[0m\u001b[0;34m)\u001b[0m\u001b[0;34m\u001b[0m\u001b[0;34m\u001b[0m\u001b[0m\n\u001b[0m\u001b[1;32m    571\u001b[0m \u001b[0;34m\u001b[0m\u001b[0m\n\u001b[1;32m    572\u001b[0m \u001b[0;31m# XXX probably also want an abstract factory that knows when it makes\u001b[0m\u001b[0;34m\u001b[0m\u001b[0;34m\u001b[0m\u001b[0;34m\u001b[0m\u001b[0m\n",
            "\u001b[0;32m/usr/lib/python3.6/urllib/request.py\u001b[0m in \u001b[0;36m_call_chain\u001b[0;34m(self, chain, kind, meth_name, *args)\u001b[0m\n\u001b[1;32m    502\u001b[0m         \u001b[0;32mfor\u001b[0m \u001b[0mhandler\u001b[0m \u001b[0;32min\u001b[0m \u001b[0mhandlers\u001b[0m\u001b[0;34m:\u001b[0m\u001b[0;34m\u001b[0m\u001b[0;34m\u001b[0m\u001b[0m\n\u001b[1;32m    503\u001b[0m             \u001b[0mfunc\u001b[0m \u001b[0;34m=\u001b[0m \u001b[0mgetattr\u001b[0m\u001b[0;34m(\u001b[0m\u001b[0mhandler\u001b[0m\u001b[0;34m,\u001b[0m \u001b[0mmeth_name\u001b[0m\u001b[0;34m)\u001b[0m\u001b[0;34m\u001b[0m\u001b[0;34m\u001b[0m\u001b[0m\n\u001b[0;32m--> 504\u001b[0;31m             \u001b[0mresult\u001b[0m \u001b[0;34m=\u001b[0m \u001b[0mfunc\u001b[0m\u001b[0;34m(\u001b[0m\u001b[0;34m*\u001b[0m\u001b[0margs\u001b[0m\u001b[0;34m)\u001b[0m\u001b[0;34m\u001b[0m\u001b[0;34m\u001b[0m\u001b[0m\n\u001b[0m\u001b[1;32m    505\u001b[0m             \u001b[0;32mif\u001b[0m \u001b[0mresult\u001b[0m \u001b[0;32mis\u001b[0m \u001b[0;32mnot\u001b[0m \u001b[0;32mNone\u001b[0m\u001b[0;34m:\u001b[0m\u001b[0;34m\u001b[0m\u001b[0;34m\u001b[0m\u001b[0m\n\u001b[1;32m    506\u001b[0m                 \u001b[0;32mreturn\u001b[0m \u001b[0mresult\u001b[0m\u001b[0;34m\u001b[0m\u001b[0;34m\u001b[0m\u001b[0m\n",
            "\u001b[0;32m/usr/lib/python3.6/urllib/request.py\u001b[0m in \u001b[0;36mhttp_error_default\u001b[0;34m(self, req, fp, code, msg, hdrs)\u001b[0m\n\u001b[1;32m    648\u001b[0m \u001b[0;32mclass\u001b[0m \u001b[0mHTTPDefaultErrorHandler\u001b[0m\u001b[0;34m(\u001b[0m\u001b[0mBaseHandler\u001b[0m\u001b[0;34m)\u001b[0m\u001b[0;34m:\u001b[0m\u001b[0;34m\u001b[0m\u001b[0;34m\u001b[0m\u001b[0m\n\u001b[1;32m    649\u001b[0m     \u001b[0;32mdef\u001b[0m \u001b[0mhttp_error_default\u001b[0m\u001b[0;34m(\u001b[0m\u001b[0mself\u001b[0m\u001b[0;34m,\u001b[0m \u001b[0mreq\u001b[0m\u001b[0;34m,\u001b[0m \u001b[0mfp\u001b[0m\u001b[0;34m,\u001b[0m \u001b[0mcode\u001b[0m\u001b[0;34m,\u001b[0m \u001b[0mmsg\u001b[0m\u001b[0;34m,\u001b[0m \u001b[0mhdrs\u001b[0m\u001b[0;34m)\u001b[0m\u001b[0;34m:\u001b[0m\u001b[0;34m\u001b[0m\u001b[0;34m\u001b[0m\u001b[0m\n\u001b[0;32m--> 650\u001b[0;31m         \u001b[0;32mraise\u001b[0m \u001b[0mHTTPError\u001b[0m\u001b[0;34m(\u001b[0m\u001b[0mreq\u001b[0m\u001b[0;34m.\u001b[0m\u001b[0mfull_url\u001b[0m\u001b[0;34m,\u001b[0m \u001b[0mcode\u001b[0m\u001b[0;34m,\u001b[0m \u001b[0mmsg\u001b[0m\u001b[0;34m,\u001b[0m \u001b[0mhdrs\u001b[0m\u001b[0;34m,\u001b[0m \u001b[0mfp\u001b[0m\u001b[0;34m)\u001b[0m\u001b[0;34m\u001b[0m\u001b[0;34m\u001b[0m\u001b[0m\n\u001b[0m\u001b[1;32m    651\u001b[0m \u001b[0;34m\u001b[0m\u001b[0m\n\u001b[1;32m    652\u001b[0m \u001b[0;32mclass\u001b[0m \u001b[0mHTTPRedirectHandler\u001b[0m\u001b[0;34m(\u001b[0m\u001b[0mBaseHandler\u001b[0m\u001b[0;34m)\u001b[0m\u001b[0;34m:\u001b[0m\u001b[0;34m\u001b[0m\u001b[0;34m\u001b[0m\u001b[0m\n",
            "\u001b[0;31mHTTPError\u001b[0m: HTTP Error 404: Not Found"
          ]
        }
      ]
    },
    {
      "cell_type": "code",
      "metadata": {
        "id": "jnjrZC2oS9Hp"
      },
      "source": [
        "# convert timestamps to pandas format in dataframe\n",
        "df['server_t']= df['server_t'].apply(pd.Timestamp)\n",
        "\n",
        "# get longer country names using pycountry API\n",
        "df['country']= df['country'].apply(lambda x: pycountry.countries.get(alpha_2=x).name)\n",
        "\n",
        "# get full as_name from number\n",
        "df['as_name']= df['as_number'].apply(lambda x: find_mapping(str(x)))"
      ],
      "execution_count": null,
      "outputs": []
    },
    {
      "cell_type": "code",
      "metadata": {
        "id": "QB03fxi-ePVq"
      },
      "source": [
        "# drop unnecessary filename field\n",
        "del df['filename']"
      ],
      "execution_count": null,
      "outputs": []
    },
    {
      "cell_type": "code",
      "metadata": {
        "id": "uXEsSp31DDvi"
      },
      "source": [
        "# replace {} and [] in http_reason with NaN\n",
        "df['http_reason'] = df['http_reason'].mask(df['http_reason'].apply(str).eq('{}'))\n",
        "df['http_reason'] = df['http_reason'].mask(df['http_reason'].apply(str).eq('[]'))"
      ],
      "execution_count": null,
      "outputs": []
    },
    {
      "cell_type": "code",
      "metadata": {
        "id": "b7aQyVlexYPy"
      },
      "source": [
        "# http status code of 1 doesn't make sense -> cast it to NaN\n",
        "\n",
        "df['http_status'].mask(df['http_status'].eq(-1), inplace = True)"
      ],
      "execution_count": null,
      "outputs": []
    },
    {
      "cell_type": "code",
      "metadata": {
        "id": "t05s4QTUyDpx"
      },
      "source": [
        "# dns and dns_all of -2 doesn't make sense (and presents typing problems) -> cast it to NaN\n",
        "\n",
        "def is_minus_2(x):\n",
        "  return x != 'false' and x != 'true'\n",
        "\n",
        "def convert(x):\n",
        "  if x == \"true\" or x == \"True\":\n",
        "    return True\n",
        "  elif x == \"false\" or x == \"False\":\n",
        "    return False\n",
        "  return pd.NA\n",
        "\n",
        "df['dns'] = df['dns'].mask( df['dns'].apply(lambda x: is_minus_2(x)) )\n",
        "df['dns_all'] = df['dns_all'].mask(df['dns_all'].apply(lambda x: is_minus_2(x)) )"
      ],
      "execution_count": null,
      "outputs": []
    },
    {
      "cell_type": "code",
      "metadata": {
        "id": "yXEqrphC7PXr"
      },
      "source": [
        "# cast booleans to nullable type\n",
        "\n",
        "df['dns_all'] = df['dns_all'].apply(convert).astype('boolean')\n",
        "df['dns'] = df['dns'].apply(convert).astype('boolean')\n",
        "df['packet_updated'] = df['packet_updated'].astype('boolean')\n",
        "df['censored_updated'] = df['censored_updated'].astype('boolean')\n",
        "df['block'] = df['block'].astype('boolean')"
      ],
      "execution_count": null,
      "outputs": []
    },
    {
      "cell_type": "code",
      "metadata": {
        "id": "G2pStO6K8-yU"
      },
      "source": [
        "# cast floats to nullable integers\n",
        "\n",
        "df['as_number'] = df['as_number'].astype(\"Int64\")\n",
        "df['http_status'] = df['http_status'].astype(\"Int64\")\n",
        "df['body_len'] = df['body_len'].astype(\"Int64\")"
      ],
      "execution_count": null,
      "outputs": []
    },
    {
      "cell_type": "code",
      "metadata": {
        "id": "RbFDFOws3IM_"
      },
      "source": [
        "# strip url http://, https://, and www\n",
        "\n",
        "def strip_extra(x):\n",
        "  return x.strip('http://').strip('https://').strip('/').strip('www.')\n",
        "\n",
        "df['url'] = df['url'].apply(strip_extra)"
      ],
      "execution_count": null,
      "outputs": []
    },
    {
      "cell_type": "code",
      "metadata": {
        "id": "7fycrf1MlL7F"
      },
      "source": [
        "url_classification = open(dir + '/URL classification/type_domain_mapping.txt','r')\n",
        "\n",
        "c = {}\n",
        "\n",
        "for line in url_classification.readlines():\n",
        "\n",
        "  classification, url = line.strip().split('|||')\n",
        "  c[url.strip('www.')] = classification\n",
        "\n",
        "print(c)\n",
        "df['classification']= df['url'].apply(c.get)\n"
      ],
      "execution_count": null,
      "outputs": []
    },
    {
      "cell_type": "code",
      "metadata": {
        "id": "wbH8dC9vwBRL"
      },
      "source": [
        "pd.set_option('display.max_colwidth', 0)\n",
        "df.agg(['unique']).transpose()"
      ],
      "execution_count": null,
      "outputs": []
    },
    {
      "cell_type": "code",
      "metadata": {
        "id": "7VMIDtE0DWJE"
      },
      "source": [
        "df.to_csv('ICLab_test1.csv', index=False)"
      ],
      "execution_count": null,
      "outputs": []
    },
    {
      "cell_type": "code",
      "metadata": {
        "id": "K8355tiiCC_9"
      },
      "source": [
        "# Initialize Libra client\n",
        "new_client = client('ICLab_test1.csv')"
      ],
      "execution_count": null,
      "outputs": []
    },
    {
      "cell_type": "code",
      "metadata": {
        "id": "OjSssPNeBFJR"
      },
      "source": [
        "new_client.neural_network_query('model', epochs=10)"
      ],
      "execution_count": null,
      "outputs": []
    }
  ]
}